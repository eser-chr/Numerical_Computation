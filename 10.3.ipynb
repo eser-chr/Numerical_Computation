{
 "cells": [
  {
   "cell_type": "code",
   "execution_count": 1,
   "metadata": {},
   "outputs": [],
   "source": [
    "import numpy as np\n",
    "import matplotlib.pyplot as plt\n",
    "import abc"
   ]
  },
  {
   "cell_type": "code",
   "execution_count": 54,
   "metadata": {},
   "outputs": [],
   "source": [
    "class PowerIteration:\n",
    "    \"\"\"\n",
    "    PowerIteration class for finding the dominant eigenvector and eigenvalue of a square matrix using power iteration.\n",
    "\n",
    "    Parameters:\n",
    "    - A (numpy.ndarray): The square matrix for which to find the eigenvector and eigenvalue.\n",
    "    - x0 (numpy.ndarray): The initial guess for the eigenvector.\n",
    "    - tol (float): Convergence tolerance. The iteration stops if the change in eigenvalue is below this threshold.\n",
    "    \n",
    "    Attributes:\n",
    "    - A (numpy.ndarray): The input matrix.\n",
    "    - x0 (numpy.ndarray): The initial guess for the eigenvector.\n",
    "    - tol (float): Convergence tolerance.\n",
    "    - x (numpy.ndarray): Current estimate of the eigenvector.\n",
    "    - lamda (float): Current estimate of the eigenvalue.\n",
    "    - converged (bool): True if convergence criteria are met, False otherwise.\n",
    "    - iteration (int): Number of iterations performed.\n",
    "    - errors (numpy.ndarray): Array containing errors in eigenvalue estimates over multiple calls.\n",
    "\n",
    "    Methods:\n",
    "    - step(): Perform one iteration of power iteration.\n",
    "    - __call__(iterations, true_lamda=None): Perform multiple iterations of power iteration.\n",
    "\n",
    "    Usage:\n",
    "    ```\n",
    "    # Example usage:\n",
    "    A = your_matrix\n",
    "    x0 = your_initial_guess\n",
    "    pi = PowerIteration(A, x0)\n",
    "    pi(iterations=100, true_lamda=desired_eigenvalue)\n",
    "    print(pi.lamda)  # Access the estimated eigenvalue\n",
    "    print(pi.x)      # Access the estimated eigenvector\n",
    "    print(pi.errors)  # Access the errors in eigenvalue estimates\n",
    "    ```\n",
    "    \"\"\"\n",
    "    def __init__(self, A, x0, tol=np.finfo(float).eps):\n",
    "        self.A = A\n",
    "        self.x0 = x0.copy()\n",
    "        self.tol = tol\n",
    "        self.x = self.x0.copy()\n",
    "        self.lamda = 0\n",
    "        self.converged = False\n",
    "        self.iteration = 0\n",
    "        self.errors = np.array([])\n",
    "\n",
    "    def step(self):\n",
    "        \"\"\"\n",
    "        Perform one iteration of power iteration.\n",
    "        Updates the eigenvector and eigenvalue estimates.\n",
    "        \"\"\"\n",
    "        self.x = self.A @ self.x\n",
    "        self.x = self.x / np.linalg.norm(self.x)\n",
    "        lamda = np.dot(self.x, self.A @ self.x)\n",
    "        if np.abs(lamda - self.lamda) < self.tol:\n",
    "            self.converged = True\n",
    "        self.lamda = lamda\n",
    "\n",
    "    def __call__(self, iterations, true_lamda: float | None = None):\n",
    "        \"\"\"\n",
    "        Perform multiple iterations of power iteration.\n",
    "\n",
    "        Parameters:\n",
    "        - iterations (int): The number of iterations to perform.\n",
    "        - true_lamda (float): The true eigenvalue for error calculation (optional).\n",
    "\n",
    "        If true_lamda is provided, errors in eigenvalue estimates will be accumulated in the errors attribute.\n",
    "        \"\"\"\n",
    "        iteration = 0\n",
    "        if true_lamda is None:\n",
    "            while iteration < iterations and not self.converged:\n",
    "                self.step()\n",
    "                iteration += 1\n",
    "                self.iteration += 1\n",
    "        elif not isinstance(true_lamda, float):\n",
    "            print(\"Invalid true_lamda\")\n",
    "        else:\n",
    "            errors = np.zeros(iterations)\n",
    "            while iteration < iterations and not self.converged:\n",
    "                self.step()\n",
    "                errors[iteration] = np.abs(self.lamda - true_lamda)\n",
    "                iteration += 1\n",
    "                self.iteration += 1\n",
    "            self.errors = np.hstack((self.errors, errors))\n",
    "\n",
    "\n",
    "        \n"
   ]
  },
  {
   "cell_type": "code",
   "execution_count": 74,
   "metadata": {},
   "outputs": [],
   "source": [
    "import numpy as np\n",
    "\n",
    "class InversePowerIteration:\n",
    "    \"\"\"\n",
    "    InversePowerIteration class for finding the eigenvector and eigenvalue of a matrix close to a given target value.\n",
    "\n",
    "    Parameters:\n",
    "    - A (numpy.ndarray): The square matrix for which to find the eigenvector and eigenvalue.\n",
    "    - x0 (numpy.ndarray): The initial guess for the eigenvector.\n",
    "    - shift (float): The shift to apply to the matrix, making the target eigenvalue the dominant one.\n",
    "    - tol (float): Convergence tolerance. The iteration stops if the change in eigenvalue is below this threshold.\n",
    "    \n",
    "    Attributes:\n",
    "    - A (numpy.ndarray): The input matrix.\n",
    "    - x0 (numpy.ndarray): The initial guess for the eigenvector.\n",
    "    - shift (float): The shift applied to the matrix.\n",
    "    - tol (float): Convergence tolerance.\n",
    "    - x (numpy.ndarray): Current estimate of the eigenvector.\n",
    "    - eigenvalue (float): Current estimate of the eigenvalue.\n",
    "    - converged (bool): True if convergence criteria are met, False otherwise.\n",
    "    - iteration (int): Number of iterations performed.\n",
    "\n",
    "    Methods:\n",
    "    - step(): Perform one iteration of inverse power iteration.\n",
    "    - __call__(iterations): Perform multiple iterations of inverse power iteration.\n",
    "\n",
    "    Usage:\n",
    "    ```\n",
    "    # Example usage:\n",
    "    A = your_matrix\n",
    "    x0 = your_initial_guess\n",
    "    shift_value = desired_shift\n",
    "    ipi = InversePowerIteration(A, x0, shift=shift_value)\n",
    "    ipi(iterations=100)\n",
    "    print(ipi.eigenvalue)  # Access the estimated eigenvalue\n",
    "    print(ipi.x)           # Access the estimated eigenvector\n",
    "    ```\n",
    "    \"\"\"\n",
    "    def __init__(self, A, x0, shift=0.0, tol=np.finfo(float).eps):\n",
    "        self.A = A\n",
    "        self.shift = shift\n",
    "        self.D = self.A - self.shift * np.eye(self.A.shape[0])\n",
    "        self.x0 = x0.copy()\n",
    "        self.tol = tol\n",
    "        self.x = self.x0.copy()\n",
    "        self.eigenvalue = 0\n",
    "        self.converged = False\n",
    "        self.iteration = 0\n",
    "        self.errors = np.array([])\n",
    "\n",
    "    def step(self):\n",
    "        \"\"\"\n",
    "        Perform one iteration of inverse power iteration.\n",
    "        Updates the eigenvector and eigenvalue estimates.\n",
    "        \"\"\"\n",
    "        self.x = np.linalg.solve(self.D, self.x)\n",
    "        self.x = self.x / np.linalg.norm(self.x)\n",
    "        eigenvalue = np.dot(self.x, self.A @ self.x)\n",
    "        if np.abs(eigenvalue - self.eigenvalue) < self.tol:\n",
    "            self.converged = True\n",
    "        self.eigenvalue = eigenvalue\n",
    "\n",
    "    def __call__(self, iterations, true_eigenvalue):\n",
    "        \"\"\"\n",
    "        Perform multiple iterations of inverse power iteration.\n",
    "\n",
    "        Parameters:\n",
    "        - iterations (int): The number of iterations to perform.\n",
    "        \"\"\"\n",
    "        iteration = 0\n",
    "        if true_eigenvalue is None:\n",
    "            while iteration < iterations and not self.converged:\n",
    "                self.step()\n",
    "                iteration += 1\n",
    "                self.iteration += 1\n",
    "        elif not isinstance(true_eigenvalue, float):\n",
    "            print(\"Invalid true_lamda\")\n",
    "        else:\n",
    "            errors = np.zeros(iterations)\n",
    "            while iteration < iterations and not self.converged:\n",
    "                self.step()\n",
    "                errors[iteration] = np.abs(self.eigenvalue - true_eigenvalue)\n",
    "                iteration += 1\n",
    "                self.iteration += 1\n",
    "            self.errors = np.hstack((self.errors, errors))\n"
   ]
  },
  {
   "cell_type": "code",
   "execution_count": 2,
   "metadata": {},
   "outputs": [],
   "source": [
    "def power_iteration(A, x0, max_iterations, tol = np.finfo(float).eps):\n",
    "    \"\"\"\n",
    "    Perform power iteration to find the dominant eigenvector and eigenvalue of a square matrix.\n",
    "\n",
    "    Parameters:\n",
    "    - A (numpy.ndarray): The square matrix for which to find the dominant eigenvector and eigenvalue.\n",
    "    - x0 (numpy.ndarray): The initial guess for the eigenvector.\n",
    "    - max_iterations (int): The maximum number of iterations to perform.\n",
    "    - tol (float): Convergence tolerance. The iteration stops if the change in eigenvalue is below this threshold.\n",
    "\n",
    "    Returns:\n",
    "    - x (numpy.ndarray): The dominant eigenvector.\n",
    "    - lamda (float): The corresponding dominant eigenvalue.\n",
    "    \"\"\"\n",
    "    x = x0.copy()\n",
    "    x = x/np.linalg.norm(x)\n",
    "    lamda=0\n",
    "    for _ in range(max_iterations):\n",
    "        x = A@x\n",
    "        x = x/np.linalg.norm(x)\n",
    "        lamda_new = np.dot(x, A@x)\n",
    "        if np.abs(lamda_new - lamda) < tol:\n",
    "            break\n",
    "        lamda = lamda_new\n",
    "\n",
    "    return x, lamda"
   ]
  },
  {
   "cell_type": "code",
   "execution_count": 71,
   "metadata": {},
   "outputs": [
    {
     "data": {
      "text/plain": [
       "array([ 9.09016994, -2.09016994])"
      ]
     },
     "execution_count": 71,
     "metadata": {},
     "output_type": "execute_result"
    }
   ],
   "source": [
    "A = np.array([[1,5],[5,6]])\n",
    "TRUE_EIGENVALS = np.linalg.eigvals(A)\n",
    "TRUE_EIGENVALS.sort()\n",
    "TRUE_EIGENVALS = TRUE_EIGENVALS[::-1]\n",
    "TRUE_EIGENVALS"
   ]
  },
  {
   "cell_type": "code",
   "execution_count": 72,
   "metadata": {},
   "outputs": [],
   "source": [
    "x0 = np.array([0.2,0.7])"
   ]
  },
  {
   "cell_type": "code",
   "execution_count": 87,
   "metadata": {},
   "outputs": [],
   "source": [
    "p0 = PowerIteration(A,x0)\n",
    "p0(16, true_lamda=TRUE_EIGENVALS[0])\n",
    "p1 = InversePowerIteration(A,x0)\n",
    "p1(16, true_eigenvalue=TRUE_EIGENVALS[1])"
   ]
  },
  {
   "cell_type": "code",
   "execution_count": 88,
   "metadata": {},
   "outputs": [
    {
     "data": {
      "text/plain": [
       "array([4.69585517e-02, 2.49267105e-03, 1.31818352e-04, 6.96947267e-06,\n",
       "       3.68484622e-07, 1.94822274e-08, 1.03005071e-09, 5.44613243e-11,\n",
       "       2.88302715e-12, 1.50990331e-13, 7.10542736e-15, 3.55271368e-15,\n",
       "       0.00000000e+00, 1.77635684e-15, 1.77635684e-15, 0.00000000e+00])"
      ]
     },
     "execution_count": 88,
     "metadata": {},
     "output_type": "execute_result"
    }
   ],
   "source": [
    "p0.errors"
   ]
  },
  {
   "cell_type": "code",
   "execution_count": 83,
   "metadata": {},
   "outputs": [
    {
     "data": {
      "text/plain": [
       "array([4.45634095e+00, 3.78501530e-01, 2.06747526e-02, 1.09501689e-03,\n",
       "       5.79002312e-05, 3.06126989e-06, 1.61853064e-07, 8.55736637e-09,\n",
       "       4.52438531e-10, 2.39208653e-11, 1.26432198e-12, 6.70574707e-14,\n",
       "       3.55271368e-15, 4.44089210e-16, 4.44089210e-16, 0.00000000e+00])"
      ]
     },
     "execution_count": 83,
     "metadata": {},
     "output_type": "execute_result"
    }
   ],
   "source": [
    "p1.errors"
   ]
  },
  {
   "cell_type": "code",
   "execution_count": 86,
   "metadata": {},
   "outputs": [
    {
     "data": {
      "text/plain": [
       "<matplotlib.legend.Legend at 0x12042ac10>"
      ]
     },
     "execution_count": 86,
     "metadata": {},
     "output_type": "execute_result"
    },
    {
     "data": {
      "image/png": "[encoded data removed]",
      "text/plain": [
       "<Figure size 640x480 with 1 Axes>"
      ]
     },
     "metadata": {},
     "output_type": "display_data"
    }
   ],
   "source": [
    "fig, ax = plt.subplots(1,1)\n",
    "ax.plot(p0.errors, label=r\"$\\lambda_1$ \")\n",
    "ax.plot(p1.errors, label=r\"$\\lambda_2$ \")\n",
    "ax.set(yscale='log', xlabel='iterations', ylabel=r'$||\\lambda_{i}-\\lambda^*||_2$',\n",
    "       title='PowerIteration | InverseIteration convergence')\n",
    "ax.grid()\n",
    "ax.legend()"
   ]
  },
  {
   "cell_type": "code",
   "execution_count": null,
   "metadata": {},
   "outputs": [],
   "source": []
  }
 ],
 "metadata": {
  "kernelspec": {
   "display_name": "Python 3",
   "language": "python",
   "name": "python3"
  },
  "language_info": {
   "codemirror_mode": {
    "name": "ipython",
    "version": 3
   },
   "file_extension": ".py",
   "mimetype": "text/x-python",
   "name": "python",
   "nbconvert_exporter": "python",
   "pygments_lexer": "ipython3",
   "version": "3.11.6"
  }
 },
 "nbformat": 4,
 "nbformat_minor": 2
}
