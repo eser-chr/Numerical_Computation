{
 "cells": [
  {
   "cell_type": "code",
   "execution_count": 2,
   "metadata": {},
   "outputs": [],
   "source": [
    "import matplotlib.pyplot as plt\n",
    "import scipy as sc\n",
    "import numpy as np"
   ]
  },
  {
   "cell_type": "code",
   "execution_count": 18,
   "metadata": {},
   "outputs": [],
   "source": [
    "n = 10\n",
    "def create_matrices(n):\n",
    "    e = np.zeros(n)\n",
    "    e.fill(1)\n",
    "\n",
    "    b = np.zeros(n)\n",
    "    b[0]=1\n",
    "\n",
    "    A = 10*np.identity(n)+np.outer(e,b)+np.outer(b,e)\n",
    "    tilde_A = A[-1::-1, -1::-1]\n",
    "    return A, tilde_A\n",
    "\n",
    "A, A_tilde = create_matrices(n)"
   ]
  },
  {
   "cell_type": "code",
   "execution_count": 19,
   "metadata": {},
   "outputs": [
    {
     "data": {
      "text/plain": [
       "[Text(0.5, 1.0, 'tilde_A')]"
      ]
     },
     "execution_count": 19,
     "metadata": {},
     "output_type": "execute_result"
    },
    {
     "data": {
      "image/png": "[encoded data removed]",
      "text/plain": [
       "<Figure size 640x480 with 2 Axes>"
      ]
     },
     "metadata": {},
     "output_type": "display_data"
    }
   ],
   "source": [
    "fig, (ax1, ax2) = plt.subplots(1,2)\n",
    "ax1.spy(A)\n",
    "ax2.spy(tilde_A)\n",
    "\n",
    "ax1.set(title='A')\n",
    "ax2.set(title='tilde_A')"
   ]
  },
  {
   "cell_type": "code",
   "execution_count": 20,
   "metadata": {},
   "outputs": [],
   "source": [
    "P,L,U = sc.linalg.lu(A)\n",
    "P_tilde,L_tilde,U_tilde = sc.linalg.lu(tilde_A)\n"
   ]
  },
  {
   "cell_type": "code",
   "execution_count": 21,
   "metadata": {},
   "outputs": [
    {
     "data": {
      "text/plain": [
       "[Text(0.5, 1.0, 'L_tilde')]"
      ]
     },
     "execution_count": 21,
     "metadata": {},
     "output_type": "execute_result"
    },
    {
     "data": {
      "image/png": "[encoded data removed]",
      "text/plain": [
       "<Figure size 600x700 with 4 Axes>"
      ]
     },
     "metadata": {},
     "output_type": "display_data"
    }
   ],
   "source": [
    "fig, ((ax1, ax2),(ax3,ax4)) = plt.subplots(2,2, figsize=(6,7))\n",
    "ax1.spy(U)\n",
    "ax2.spy(U_tilde)\n",
    "ax3.spy(L)\n",
    "ax4.spy(L_tilde)\n",
    "\n",
    "ax1.set(title='U')\n",
    "ax2.set(title='U_tilde')\n",
    "ax3.set(title='L')\n",
    "ax4.set(title='L_tilde')"
   ]
  },
  {
   "cell_type": "code",
   "execution_count": null,
   "metadata": {},
   "outputs": [],
   "source": []
  },
  {
   "cell_type": "code",
   "execution_count": 8,
   "metadata": {},
   "outputs": [],
   "source": [
    "from scipy.sparse import csr_matrix\n",
    "from scipy.sparse.csgraph import reverse_cuthill_mckee"
   ]
  },
  {
   "cell_type": "markdown",
   "metadata": {},
   "source": [
    "# If we do not decompose"
   ]
  },
  {
   "cell_type": "code",
   "execution_count": 16,
   "metadata": {},
   "outputs": [],
   "source": [
    "N = [10,100,1000]\n",
    "length_of_CuthilMcKee = []\n",
    "for n in N:\n",
    "    A, A_tilde =  create_matrices(n)\n",
    "    temp = [0,0]\n",
    "    temp[0] = len(reverse_cuthill_mckee(csr_matrix(A)))\n",
    "    temp[1] = len(reverse_cuthill_mckee(csr_matrix(A_tilde)))\n",
    "    length_of_CuthilMcKee.append(temp)"
   ]
  },
  {
   "cell_type": "code",
   "execution_count": 17,
   "metadata": {},
   "outputs": [
    {
     "data": {
      "text/plain": [
       "[[10, 10], [100, 100], [1000, 1000]]"
      ]
     },
     "execution_count": 17,
     "metadata": {},
     "output_type": "execute_result"
    }
   ],
   "source": [
    "length_of_CuthilMcKee"
   ]
  },
  {
   "cell_type": "markdown",
   "metadata": {},
   "source": [
    "# If we desompose"
   ]
  },
  {
   "cell_type": "code",
   "execution_count": 26,
   "metadata": {},
   "outputs": [
    {
     "name": "stdout",
     "output_type": "stream",
     "text": [
      "[[ 1.          0.          0.          0.          0.          0.\n",
      "   0.          0.          0.          0.        ]\n",
      " [ 0.08333333  1.          0.          0.          0.          0.\n",
      "   0.          0.          0.          0.        ]\n",
      " [ 0.08333333 -0.00840336  1.          0.          0.          0.\n",
      "   0.          0.          0.          0.        ]\n",
      " [ 0.08333333 -0.00840336 -0.00847458  1.          0.          0.\n",
      "   0.          0.          0.          0.        ]\n",
      " [ 0.08333333 -0.00840336 -0.00847458 -0.00854701  1.          0.\n",
      "   0.          0.          0.          0.        ]\n",
      " [ 0.08333333 -0.00840336 -0.00847458 -0.00854701 -0.00862069  1.\n",
      "   0.          0.          0.          0.        ]\n",
      " [ 0.08333333 -0.00840336 -0.00847458 -0.00854701 -0.00862069 -0.00869565\n",
      "   1.          0.          0.          0.        ]\n",
      " [ 0.08333333 -0.00840336 -0.00847458 -0.00854701 -0.00862069 -0.00869565\n",
      "  -0.00877193  1.          0.          0.        ]\n",
      " [ 0.08333333 -0.00840336 -0.00847458 -0.00854701 -0.00862069 -0.00869565\n",
      "  -0.00877193 -0.00884956  1.          0.        ]\n",
      " [ 0.08333333 -0.00840336 -0.00847458 -0.00854701 -0.00862069 -0.00869565\n",
      "  -0.00877193 -0.00884956 -0.00892857  1.        ]] [[12.          1.          1.          1.          1.          1.\n",
      "   1.          1.          1.          1.        ]\n",
      " [ 0.          9.91666667 -0.08333333 -0.08333333 -0.08333333 -0.08333333\n",
      "  -0.08333333 -0.08333333 -0.08333333 -0.08333333]\n",
      " [ 0.          0.          9.91596639 -0.08403361 -0.08403361 -0.08403361\n",
      "  -0.08403361 -0.08403361 -0.08403361 -0.08403361]\n",
      " [ 0.          0.          0.          9.91525424 -0.08474576 -0.08474576\n",
      "  -0.08474576 -0.08474576 -0.08474576 -0.08474576]\n",
      " [ 0.          0.          0.          0.          9.91452991 -0.08547009\n",
      "  -0.08547009 -0.08547009 -0.08547009 -0.08547009]\n",
      " [ 0.          0.          0.          0.          0.          9.9137931\n",
      "  -0.0862069  -0.0862069  -0.0862069  -0.0862069 ]\n",
      " [ 0.          0.          0.          0.          0.          0.\n",
      "   9.91304348 -0.08695652 -0.08695652 -0.08695652]\n",
      " [ 0.          0.          0.          0.          0.          0.\n",
      "   0.          9.9122807  -0.0877193  -0.0877193 ]\n",
      " [ 0.          0.          0.          0.          0.          0.\n",
      "   0.          0.          9.91150442 -0.08849558]\n",
      " [ 0.          0.          0.          0.          0.          0.\n",
      "   0.          0.          0.          9.91071429]] [[1.  0.  0.  0.  0.  0.  0.  0.  0.  0. ]\n",
      " [0.  1.  0.  0.  0.  0.  0.  0.  0.  0. ]\n",
      " [0.  0.  1.  0.  0.  0.  0.  0.  0.  0. ]\n",
      " [0.  0.  0.  1.  0.  0.  0.  0.  0.  0. ]\n",
      " [0.  0.  0.  0.  1.  0.  0.  0.  0.  0. ]\n",
      " [0.  0.  0.  0.  0.  1.  0.  0.  0.  0. ]\n",
      " [0.  0.  0.  0.  0.  0.  1.  0.  0.  0. ]\n",
      " [0.  0.  0.  0.  0.  0.  0.  1.  0.  0. ]\n",
      " [0.  0.  0.  0.  0.  0.  0.  0.  1.  0. ]\n",
      " [0.1 0.1 0.1 0.1 0.1 0.1 0.1 0.1 0.1 1. ]] [[10.   0.   0.   0.   0.   0.   0.   0.   0.   1. ]\n",
      " [ 0.  10.   0.   0.   0.   0.   0.   0.   0.   1. ]\n",
      " [ 0.   0.  10.   0.   0.   0.   0.   0.   0.   1. ]\n",
      " [ 0.   0.   0.  10.   0.   0.   0.   0.   0.   1. ]\n",
      " [ 0.   0.   0.   0.  10.   0.   0.   0.   0.   1. ]\n",
      " [ 0.   0.   0.   0.   0.  10.   0.   0.   0.   1. ]\n",
      " [ 0.   0.   0.   0.   0.   0.  10.   0.   0.   1. ]\n",
      " [ 0.   0.   0.   0.   0.   0.   0.  10.   0.   1. ]\n",
      " [ 0.   0.   0.   0.   0.   0.   0.   0.  10.   1. ]\n",
      " [ 0.   0.   0.   0.   0.   0.   0.   0.   0.  11.1]]\n"
     ]
    }
   ],
   "source": [
    "N = [10,100,1000]\n",
    "length_of_CuthilMcKee = []\n",
    "for n in N[:1]:\n",
    "    A, A_tilde =  create_matrices(n)\n",
    "    P,L,U = sc.linalg.lu(A)\n",
    "    P_tilde,L_tilde,U_tilde = sc.linalg.lu(A_tilde)\n",
    "    print(L,U,L_tilde, U_tilde)\n",
    "\n",
    "    temp = [0,0,0,0]\n",
    "    \n",
    "    temp[0] = len(reverse_cuthill_mckee(csr_matrix(L)))\n",
    "    temp[1] = len(reverse_cuthill_mckee(csr_matrix(U)))\n",
    "    temp[2] = len(reverse_cuthill_mckee(csr_matrix(L_tilde)))\n",
    "    temp[3] = len(reverse_cuthill_mckee(csr_matrix(U_tilde)))\n",
    "    \n",
    "    length_of_CuthilMcKee.append(temp)"
   ]
  },
  {
   "cell_type": "code",
   "execution_count": 25,
   "metadata": {},
   "outputs": [
    {
     "data": {
      "text/plain": [
       "[[10, 10, 10, 10], [100, 100, 100, 100], [1000, 1000, 1000, 1000]]"
      ]
     },
     "execution_count": 25,
     "metadata": {},
     "output_type": "execute_result"
    }
   ],
   "source": [
    "length_of_CuthilMcKee"
   ]
  },
  {
   "cell_type": "code",
   "execution_count": 27,
   "metadata": {},
   "outputs": [],
   "source": [
    "A = np.array([[4,-2,2],[-2,1.001,3],[2,-2,2]])"
   ]
  },
  {
   "cell_type": "code",
   "execution_count": 28,
   "metadata": {},
   "outputs": [
    {
     "data": {
      "text/plain": [
       "array([[ 5.00000000e-01,  0.00000000e+00, -5.00000000e-01],\n",
       "       [ 6.24843789e-01,  2.49937516e-01, -9.99750062e-01],\n",
       "       [ 1.24843789e-01,  2.49937516e-01,  2.49937516e-04]])"
      ]
     },
     "execution_count": 28,
     "metadata": {},
     "output_type": "execute_result"
    }
   ],
   "source": [
    "np.linalg.inv(A)"
   ]
  },
  {
   "cell_type": "code",
   "execution_count": null,
   "metadata": {},
   "outputs": [],
   "source": []
  }
 ],
 "metadata": {
  "kernelspec": {
   "display_name": "Python 3",
   "language": "python",
   "name": "python3"
  },
  "language_info": {
   "codemirror_mode": {
    "name": "ipython",
    "version": 3
   },
   "file_extension": ".py",
   "mimetype": "text/x-python",
   "name": "python",
   "nbconvert_exporter": "python",
   "pygments_lexer": "ipython3",
   "version": "3.11.6"
  }
 },
 "nbformat": 4,
 "nbformat_minor": 2
}
