{
 "cells": [
  {
   "cell_type": "markdown",
   "id": "352aaf6b255e0404",
   "metadata": {
    "collapsed": false
   },
   "source": [
    "# Task 9.2\n",
    "# Newton's method in higher dimensions"
   ]
  },
  {
   "cell_type": "markdown",
   "id": "420893db4453a861",
   "metadata": {
    "collapsed": false
   },
   "source": [
    "## Task 9.2.1 \n",
    "## Solving the linear system of equations $Ax = b + \\epsilon \\cdot g(x)$ using Newton's method"
   ]
  },
  {
   "cell_type": "markdown",
   "id": "33cd066b1fbe280",
   "metadata": {
    "collapsed": false
   },
   "source": [
    "### Preface / Theory\n",
    "\n",
    "The Newton method solves the equation $f(x)=0$. Hence, we rearrange the given system of equations:\n",
    "\n",
    "$$\n",
    "\\begin{array}{llclcl}\n",
    "                & Ax                          & = & b + \\epsilon \\cdot g(x) & & \\\\\n",
    "\\Leftrightarrow & Ax -b - \\epsilon \\cdot g(x) & = & 0 & = & f(x) \\\\\n",
    "\\end{array}\n",
    "$$\n",
    "\n",
    "Inserting into the equation gives:\n",
    "\n",
    "$$\n",
    "f(x)=\n",
    "\\begin{pmatrix}\n",
    "2x_1+x_2-\\epsilon(x_1-x_2)^2 \\\\\n",
    "x_1+2x_2-3 \\\\\n",
    "\\end{pmatrix}\n",
    "=\n",
    "\\begin{pmatrix}\n",
    "0 \\\\\n",
    "0 \\\\\n",
    "\\end{pmatrix}\n",
    "$$\n",
    "$$\n",
    "f'(x)=\n",
    "\\begin{pmatrix}\n",
    "2-2\\epsilon(x_1-x_2) & 1-2\\epsilon(x_1-x_2) \\\\\n",
    "1 & 2 \\\\\n",
    "\\end{pmatrix}\n",
    "$$\n",
    "\n",
    "This nonlinear system of equations can then be solved with the same function as implemented in task 1:\n",
    "1. compute $f(x_n)$ and $f'(x_n)$\n",
    "2. compute the correction by solving the linear system $f'(x_n) \\delta = -f(x_n)$\n",
    "3. perform the update $x_{n+1} = x_n + \\delta$\n",
    "\n",
    "The initial guess $x_0$ is obtained by solving the linear system $Ax_0=b$ ignoring the term $\\epsilon \\cdot g(x)$."
   ]
  },
  {
   "cell_type": "markdown",
   "id": "2d0de99dde26eef1",
   "metadata": {
    "collapsed": false
   },
   "source": [
    "### Implementation"
   ]
  },
  {
   "cell_type": "code",
   "execution_count": 1,
   "id": "a5fb27d1d4a851ab",
   "metadata": {
    "ExecuteTime": {
     "end_time": "2023-12-29T13:55:41.499472Z",
     "start_time": "2023-12-29T13:55:41.494254Z"
    },
    "collapsed": false
   },
   "outputs": [
    {
     "name": "stdout",
     "output_type": "stream",
     "text": [
      "Zero found at x = [-0.94335081  1.97167541]\n"
     ]
    }
   ],
   "source": [
    "import numpy as np\n",
    "\n",
    "# Define constants\n",
    "EPSILON = .01  # Constant value for epsilon\n",
    "MACHINE_EPS = np.finfo(float).eps  # Machine epsilon value for the floating-point type\n",
    "A = np.array([[2, 1], [1, 2]])  # Coefficient matrix\n",
    "b = np.array([0, 3])  # Constant vector\n",
    "\n",
    "def newton_method(x, f, df, max_iter=100, min_tol=MACHINE_EPS):\n",
    "    \"\"\"\n",
    "    Perform Newton's method to find a root of a function f(x) using its derivative df(x).\n",
    "\n",
    "    Parameters:\n",
    "    - x : array_like\n",
    "        Initial guess for the root.\n",
    "    - f : callable\n",
    "        The function whose root is sought.\n",
    "    - df : callable\n",
    "        The derivative of the function `f`.\n",
    "    - max_iter : int, optional\n",
    "        Maximum number of iterations (default is 100).\n",
    "    - min_tol : float, optional\n",
    "        Minimum tolerance for convergence (default is machine epsilon).\n",
    "\n",
    "    Returns:\n",
    "    - x : array_like\n",
    "        Approximation of the root.\n",
    "    - error : list\n",
    "        List containing the error (norm of f(x)) at each iteration.\n",
    "    - min_tol : float\n",
    "        Minimum tolerance reached during iteration.\n",
    "    \"\"\"\n",
    "\n",
    "    error = []  # Initialize an empty list to store errors at each iteration\n",
    "\n",
    "    for _ in range(max_iter):\n",
    "        f_val, df_val = f(x), df(x)  # Compute the value of f and its derivative at x\n",
    "        x -= np.linalg.solve(df_val, f_val)  # Update x using Newton-Raphson method\n",
    "        error.append(np.linalg.norm(f_val))  # Compute and store the error (norm of f(x))\n",
    "\n",
    "        if error[-1] < min_tol:  # Check if the error is below the minimum tolerance\n",
    "            break  # If converged, exit the loop\n",
    "\n",
    "    return x, error, min_tol\n",
    "\n",
    "def f(x):\n",
    "    \"\"\"\n",
    "    Define the function f(x) as an array.\n",
    "\n",
    "    Parameters:\n",
    "    - x : array_like\n",
    "        Input vector.\n",
    "\n",
    "    Returns:\n",
    "    - array_like\n",
    "        Array containing the values of the functions at x.\n",
    "    \"\"\"\n",
    "    return np.array([\n",
    "        2 * x[0] + x[1] - EPSILON * ((x[0] - x[1]) ** 2),\n",
    "        x[0] + 2 * x[1] - 3,\n",
    "    ])\n",
    "\n",
    "def df(x):\n",
    "    \"\"\"\n",
    "    Define the derivative of the function f(x) as a matrix.\n",
    "\n",
    "    Parameters:\n",
    "    - x : array_like\n",
    "        Input vector.\n",
    "\n",
    "    Returns:\n",
    "    - array_like\n",
    "        Matrix containing the derivatives of f with respect to x.\n",
    "    \"\"\"\n",
    "    return np.array([\n",
    "        [2 - 2 * EPSILON * (x[0] - x[1]), 1 - 2 * EPSILON * (x[0] - x[1])],\n",
    "        [1, 2],\n",
    "    ])\n",
    "\n",
    "x0 = np.linalg.solve(A, b)  # Initial guess obtained by solving the linear system Ax = b\n",
    "x_newton, err_newton, tol_newton = newton_method(x0, f, df)  # Apply Newton's method\n",
    "print(f\"Zero found at x = {x_newton}\")  # Print the approximation of the root\n"
   ]
  },
  {
   "cell_type": "markdown",
   "id": "831753b93b0a853c",
   "metadata": {
    "collapsed": false
   },
   "source": [
    "### Validation\n",
    "The found vector $x$ must fulfill the system of equations $Ax=b+\\epsilon \\cdot f(x)$"
   ]
  },
  {
   "cell_type": "code",
   "execution_count": 83,
   "id": "1135ae9e3a9aedc5",
   "metadata": {
    "ExecuteTime": {
     "end_time": "2023-12-29T13:55:41.508904Z",
     "start_time": "2023-12-29T13:55:41.502579Z"
    },
    "collapsed": false
   },
   "outputs": [
    {
     "name": "stdout",
     "output_type": "stream",
     "text": [
      "Comparing lhs and rhs of the equation Ax = b+epsilon * f(x)\n",
      "lhs:             Ax = 0.08497378\n",
      "rhs: b+epsilon*g(x) = 0.08497378\n"
     ]
    }
   ],
   "source": [
    "g = lambda x1, x2: np.array([(x1 - x2) ** 2, 0])\n",
    "lhs = np.dot(A, x_newton)\n",
    "rhs = b + EPS * g(*x_newton)\n",
    "print(\"Comparing lhs and rhs of the equation Ax = b+epsilon * f(x)\")\n",
    "print(f\"lhs:             Ax = {lhs[0]:.8f}\\n\"\n",
    "      f\"rhs: b+epsilon*g(x) = {rhs[0]:.8f}\")"
   ]
  },
  {
   "cell_type": "markdown",
   "id": "ff3eac23d130146c",
   "metadata": {
    "collapsed": false
   },
   "source": []
  },
  {
   "cell_type": "markdown",
   "id": "6ff9e975aa388802",
   "metadata": {
    "collapsed": false
   },
   "source": [
    "## Task 9.2.2\n",
    "## Solving the linear system of equations $Ax = b + \\epsilon \\cdot f(x)$ using the simple method"
   ]
  },
  {
   "cell_type": "markdown",
   "id": "40f8db4cd30b684c",
   "metadata": {
    "collapsed": false
   },
   "source": [
    "### Preface / Theory\n",
    "\n",
    "Using the given update rule we can rearrange the equation to solve for $x_{n+1}$:\n",
    "$$\n",
    "\\begin{array}{llcl}\n",
    "& Ax_{n+1} & = & b + \\epsilon \\cdot f(x_n) \\\\\n",
    "\\Leftrightarrow & x_{n+1} & = & A^{-1}(b + \\epsilon \\cdot f(x_n)) \\\\\n",
    "\\end{array}\n",
    "$$"
   ]
  },
  {
   "cell_type": "markdown",
   "id": "c9a3be974c2d06f7",
   "metadata": {
    "collapsed": false
   },
   "source": [
    "## Implementation"
   ]
  },
  {
   "cell_type": "code",
   "execution_count": 8,
   "id": "ff2308cad37a788f",
   "metadata": {
    "ExecuteTime": {
     "end_time": "2023-12-29T13:55:41.543019Z",
     "start_time": "2023-12-29T13:55:41.507389Z"
    },
    "collapsed": false
   },
   "outputs": [
    {
     "name": "stdout",
     "output_type": "stream",
     "text": [
      "Zero found at x = [-0.94335081  1.97167541]\n"
     ]
    }
   ],
   "source": [
    "import numpy as np\n",
    "\n",
    "EPSILON = .01  # Constant value for epsilon\n",
    "MACHINE_EPS = np.finfo(float).eps  # Machine epsilon value for the floating-point type\n",
    "\n",
    "A = np.array([[2, 1], [1, 2]])  # Coefficient matrix\n",
    "A_inv = np.linalg.inv(A)  # Inverse of the coefficient matrix\n",
    "b = np.array([0, 3])  # Constant vector\n",
    "\n",
    "\n",
    "def simple_method(x, max_iter=100, min_tol=MACHINE_EPS):\n",
    "    \"\"\"\n",
    "    Perform a simple iterative method to solve a system of linear equations.\n",
    "\n",
    "    Parameters:\n",
    "    - x : array_like\n",
    "        Initial guess for the solution.\n",
    "    - max_iter : int, optional\n",
    "        Maximum number of iterations (default is 100).\n",
    "    - min_tol : float, optional\n",
    "        Minimum tolerance for convergence (default is machine epsilon).\n",
    "\n",
    "    Returns:\n",
    "    - x : array_like\n",
    "        Approximation of the solution.\n",
    "    - error : list\n",
    "        List containing the error (L2 norm of x_newton - x) at each iteration.\n",
    "    \"\"\"\n",
    "\n",
    "    def f(x):\n",
    "        \"\"\"\n",
    "        Define the function f(x) as an array.\n",
    "\n",
    "        Parameters:\n",
    "        - x : array_like\n",
    "            Input vector.\n",
    "\n",
    "        Returns:\n",
    "        - array_like\n",
    "            Array containing the values of the functions at x.\n",
    "        \"\"\"\n",
    "        return np.array([(x[0] - x[1]) ** 2, 0])\n",
    "\n",
    "    error = []  # Initialize an empty list to store errors at each iteration\n",
    "\n",
    "    for _ in range(max_iter):\n",
    "        rhs = b + EPSILON * f(x)  # Right-hand side of the equation\n",
    "        x = np.dot(A_inv, rhs)  # Update x using matrix multiplication\n",
    "        error.append(np.linalg.norm(x_newton - x, ord=2))  # Compute and store the error (L2 norm of x_newton - x)\n",
    "\n",
    "        if error[-1] < min_tol:  # Check if the error is below the minimum tolerance\n",
    "            break  # If converged, exit the loop\n",
    "\n",
    "    return x, error  # Return the final approximation of the solution and the error list\n",
    "\n",
    "\n",
    "x0 = np.linalg.solve(A, b)  # Initial guess obtained by solving the linear system Ax = b\n",
    "x_simple, err_simple = simple_method(x0)  # Apply the simple iterative method\n",
    "print(f\"Zero found at x = {x_simple}\")  # Print the approximation of the solution\n"
   ]
  },
  {
   "cell_type": "markdown",
   "id": "88532f9996d4e724",
   "metadata": {
    "collapsed": false
   },
   "source": []
  },
  {
   "cell_type": "markdown",
   "id": "66b0798af7a7432e",
   "metadata": {
    "collapsed": false
   },
   "source": [
    "### Validation\n",
    "The found vector $x$ must fulfill the system of equations $Ax=b+\\epsilon \\cdot f(x)$\n"
   ]
  },
  {
   "cell_type": "code",
   "execution_count": 10,
   "id": "5d7742d5dd94cf9b",
   "metadata": {
    "ExecuteTime": {
     "end_time": "2023-12-29T13:55:41.543553Z",
     "start_time": "2023-12-29T13:55:41.510403Z"
    },
    "collapsed": false
   },
   "outputs": [
    {
     "name": "stdout",
     "output_type": "stream",
     "text": [
      "Comparing lhs and rhs of the equation Ax = b+epsilon * f(x)\n",
      "lhs:             Ax = 0.08497378\n",
      "rhs: b+epsilon*g(x) = 0.08497378\n"
     ]
    }
   ],
   "source": [
    "g = lambda x1, x2: np.array([(x1 - x2) ** 2, 0])\n",
    "lhs = np.dot(A, x_simple)\n",
    "rhs = b + EPSILON * g(*x_simple)\n",
    "print(\"Comparing lhs and rhs of the equation Ax = b+epsilon * f(x)\")\n",
    "print(f\"lhs:             Ax = {lhs[0]:.8f}\\n\"\n",
    "      f\"rhs: b+epsilon*g(x) = {rhs[0]:.8f}\")"
   ]
  },
  {
   "cell_type": "markdown",
   "id": "f40293f4186cd64",
   "metadata": {
    "collapsed": false
   },
   "source": []
  },
  {
   "cell_type": "markdown",
   "id": "17da6b64472c7ec3",
   "metadata": {
    "collapsed": false
   },
   "source": [
    "## Task 9.2.3\n",
    "## Plotting the error for both methods"
   ]
  },
  {
   "cell_type": "code",
   "execution_count": 11,
   "id": "e531134699b4ab96",
   "metadata": {
    "ExecuteTime": {
     "end_time": "2023-12-29T13:55:41.669145Z",
     "start_time": "2023-12-29T13:55:41.519876Z"
    },
    "collapsed": false
   },
   "outputs": [
    {
     "data": {
      "image/png": "[encoded data removed]",
      "text/plain": [
       "<Figure size 640x480 with 1 Axes>"
      ]
     },
     "metadata": {},
     "output_type": "display_data"
    }
   ],
   "source": [
    "from matplotlib import pyplot as plt\n",
    "\n",
    "fig, ax = plt.subplots()\n",
    "_ = ax.loglog(err_newton, marker='.', linestyle='-', label='Newton\\'s method')\n",
    "_ = ax.loglog(err_simple, marker='.', linestyle='-', label='Simple method')\n",
    "_ = ax.axhline(MACHINE_EPS, linestyle=':', label='Machine $\\epsilon$')\n",
    "_ = ax.grid(alpha=.45, which='both')\n",
    "_ = ax.set_xlabel('Number of iteration')\n",
    "_ = ax.set_ylabel('Error')\n",
    "_ = ax.set_title('Exercise 9.2')\n",
    "_ = ax.legend()"
   ]
  },
  {
   "cell_type": "code",
   "execution_count": null,
   "metadata": {},
   "outputs": [],
   "source": []
  }
 ],
 "metadata": {
  "kernelspec": {
   "display_name": "Python 3",
   "language": "python",
   "name": "python3"
  },
  "language_info": {
   "codemirror_mode": {
    "name": "ipython",
    "version": 3
   },
   "file_extension": ".py",
   "mimetype": "text/x-python",
   "name": "python",
   "nbconvert_exporter": "python",
   "pygments_lexer": "ipython3",
   "version": "3.11.6"
  }
 },
 "nbformat": 4,
 "nbformat_minor": 5
}
