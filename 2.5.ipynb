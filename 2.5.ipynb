{
 "cells": [
  {
   "cell_type": "code",
   "execution_count": 1,
   "metadata": {},
   "outputs": [],
   "source": [
    "import numpy as np\n",
    "import matplotlib.pyplot as plt"
   ]
  },
  {
   "cell_type": "markdown",
   "metadata": {},
   "source": [
    "Our spline consists of 3 elements. Each part has a 3rd order polynomial that crosses the boundary points of the element\n",
    "\n",
    "! Note the points are ${(0,0),(1,1),(2,1),(3,2)}$\n",
    "\n",
    "The piecewise polynomials $p_1, p_2, p_3$ need to fulfill the following criteria\n",
    "\n",
    "\n",
    "$p_1(0)=0$  and $p_1(1)=1$\n",
    "\n",
    "$p_2(1)=1$ and $p_2(2)=1$\n",
    "\n",
    "$p_3(2)=1$ and $p_3(3)=2$\n",
    "\n",
    "$p_1'(1)=p_2'(1)$  and $p_1''(1)=p_2''(1)$\n",
    "\n",
    "$p_2'(2)=p_3'(2)$  and $p_2''(2)=p_3''(2)$\n",
    "\n",
    "knot a knot\n",
    "\n",
    "$\\lim\\limits_{x\\rightarrow 1^-}p_1'''(x)=\\lim\\limits_{x\\rightarrow 1^+}p_2'''(x)$  and $\\lim\\limits_{x\\rightarrow 2^-}p_2'''(x)=\\lim\\limits_{x\\rightarrow 2^+}p_3'''(x)$\n"
   ]
  },
  {
   "cell_type": "markdown",
   "metadata": {},
   "source": [
    "Assume\n",
    "\n",
    "$p_1(x)=a_0 +a_1 x+a_2 x^2 +a_3^3$\n",
    "\n",
    "$p_2(x)=b_0 +b_1 x+b_2 x^2 +b_3^3$\n",
    "\n",
    "$p_3(x)=c_0 +c_1 x+c_2 x^2 +c_3^3$"
   ]
  },
  {
   "cell_type": "markdown",
   "metadata": {},
   "source": [
    "Plug in numbers and arrive at the linear system where $\\vec{v} = (a_0, a_1, a_2, a_3, b_0, b_1, b_2, b_3, c_0, c_1, c_2, c_3)^T$\n",
    "\n",
    "$\\hat{A} \\vec{v}=\\vec{c}$"
   ]
  },
  {
   "cell_type": "markdown",
   "metadata": {},
   "source": [
    "Write down $\\hat{A}$ as numpy matrix directly"
   ]
  },
  {
   "cell_type": "code",
   "execution_count": 2,
   "metadata": {},
   "outputs": [],
   "source": [
    "def e(x):\n",
    "    return (1,x,x**2,x**3)\n",
    "\n",
    "def f_der(x):\n",
    "    return (0,1,2*x,3*x**2)\n",
    "\n",
    "def s_der(x):\n",
    "    return (0,0,2,6*x)"
   ]
  },
  {
   "cell_type": "code",
   "execution_count": 3,
   "metadata": {},
   "outputs": [
    {
     "name": "stdout",
     "output_type": "stream",
     "text": [
      "(0, 1, 2, 3)\n",
      "(0, 1, 4, 12)\n"
     ]
    }
   ],
   "source": [
    "for i in [1,2]:\n",
    "    print(f_der(i))"
   ]
  },
  {
   "cell_type": "code",
   "execution_count": 4,
   "metadata": {},
   "outputs": [],
   "source": [
    "A = np.array([\n",
    "[1,0,0,0,0,0,0,0,0,0,0,0],\n",
    "[1,1,1,1,0,0,0,0,0,0,0,0],\n",
    "[0,0,0,0,1,1,1,1,0,0,0,0],\n",
    "[0,0,0,0,1,2,4,8,0,0,0,0],\n",
    "[0,0,0,0,0,0,0,0,1,2,4,8],\n",
    "[0,0,0,0,0,0,0,0,1,3,9,27],\n",
    "[0,-1,-2,-3,0,1,2,3,0,0,0,0],\n",
    "[0,0,-2,-6,0,0,2,6,0,0,0,0],\n",
    "[0,0,0,0,0,-1,-4,-12,0,1,4,12],\n",
    "[0,0,0,0,0,0,-2,-12,0,0,2,12],\n",
    "[0,0,0,1,0,0,0,-1,0,0,0,0],\n",
    "[0,0,0,0,0,0,0,1,0,0,0,-1],\n",
    "])"
   ]
  },
  {
   "cell_type": "code",
   "execution_count": 5,
   "metadata": {},
   "outputs": [
    {
     "data": {
      "text/plain": [
       "array([[  1,   0,   0,   0,   0,   0,   0,   0,   0,   0,   0,   0],\n",
       "       [  1,   1,   1,   1,   0,   0,   0,   0,   0,   0,   0,   0],\n",
       "       [  0,   0,   0,   0,   1,   1,   1,   1,   0,   0,   0,   0],\n",
       "       [  0,   0,   0,   0,   1,   2,   4,   8,   0,   0,   0,   0],\n",
       "       [  0,   0,   0,   0,   0,   0,   0,   0,   1,   2,   4,   8],\n",
       "       [  0,   0,   0,   0,   0,   0,   0,   0,   1,   3,   9,  27],\n",
       "       [  0,  -1,  -2,  -3,   0,   1,   2,   3,   0,   0,   0,   0],\n",
       "       [  0,   0,  -2,  -6,   0,   0,   2,   6,   0,   0,   0,   0],\n",
       "       [  0,   0,   0,   0,   0,  -1,  -4, -12,   0,   1,   4,  12],\n",
       "       [  0,   0,   0,   0,   0,   0,  -2, -12,   0,   0,   2,  12],\n",
       "       [  0,   0,   0,   1,   0,   0,   0,  -1,   0,   0,   0,   0],\n",
       "       [  0,   0,   0,   0,   0,   0,   0,   1,   0,   0,   0,  -1]])"
      ]
     },
     "execution_count": 5,
     "metadata": {},
     "output_type": "execute_result"
    }
   ],
   "source": [
    "A"
   ]
  },
  {
   "cell_type": "code",
   "execution_count": 6,
   "metadata": {},
   "outputs": [],
   "source": [
    "c = np.array([0,1,1,1,1,2,0,0,0,0,0,0])"
   ]
  },
  {
   "cell_type": "code",
   "execution_count": 7,
   "metadata": {},
   "outputs": [],
   "source": [
    "v = np.linalg.solve(A,c)"
   ]
  },
  {
   "cell_type": "code",
   "execution_count": 8,
   "metadata": {},
   "outputs": [
    {
     "data": {
      "text/plain": [
       "array([ 0.00000000e+00,  2.16666667e+00, -1.50000000e+00,  3.33333333e-01,\n",
       "       -8.88178420e-16,  2.16666667e+00, -1.50000000e+00,  3.33333333e-01,\n",
       "        8.88178420e-16,  2.16666667e+00, -1.50000000e+00,  3.33333333e-01])"
      ]
     },
     "execution_count": 8,
     "metadata": {},
     "output_type": "execute_result"
    }
   ],
   "source": [
    "v"
   ]
  },
  {
   "cell_type": "code",
   "execution_count": 9,
   "metadata": {},
   "outputs": [
    {
     "data": {
      "text/plain": [
       "array([ 0.00000000e+00,  1.00000000e+00,  1.00000000e+00,  1.00000000e+00,\n",
       "        1.00000000e+00,  2.00000000e+00,  2.77555756e-16,  1.11022302e-16,\n",
       "        2.22044605e-16,  6.66133815e-16, -3.88578059e-16,  0.00000000e+00])"
      ]
     },
     "execution_count": 9,
     "metadata": {},
     "output_type": "execute_result"
    }
   ],
   "source": [
    "np.dot(A,v)"
   ]
  },
  {
   "cell_type": "code",
   "execution_count": 10,
   "metadata": {},
   "outputs": [],
   "source": [
    "p1 = np.poly1d(v[:4])\n",
    "p2 = np.poly1d(v[4:8])\n",
    "p3 = np.poly1d(v[8:])"
   ]
  },
  {
   "cell_type": "code",
   "execution_count": 11,
   "metadata": {},
   "outputs": [
    {
     "data": {
      "text/plain": [
       "[<matplotlib.lines.Line2D at 0x12d6ba250>]"
      ]
     },
     "execution_count": 11,
     "metadata": {},
     "output_type": "execute_result"
    },
    {
     "data": {
      "image/png": "[encoded data removed]",
      "text/plain": [
       "<Figure size 640x480 with 1 Axes>"
      ]
     },
     "metadata": {},
     "output_type": "display_data"
    }
   ],
   "source": [
    "x_1 = np.linspace(0,1)\n",
    "x_2 = np.linspace(1,2)\n",
    "x_3 = np.linspace(2,3)\n",
    "fig, ax = plt.subplots(1,1)\n",
    "ax.plot(x_1, np.polyval(v[:4],x_1))\n",
    "ax.plot(x_2, p2(x_2))\n",
    "ax.plot(x_3, p3(x_3))"
   ]
  },
  {
   "cell_type": "code",
   "execution_count": 25,
   "metadata": {},
   "outputs": [
    {
     "data": {
      "text/plain": [
       "[<matplotlib.lines.Line2D at 0x10c3dd650>]"
      ]
     },
     "execution_count": 25,
     "metadata": {},
     "output_type": "execute_result"
    },
    {
     "data": {
      "image/png": "[encoded data removed]",
      "text/plain": [
       "<Figure size 640x480 with 1 Axes>"
      ]
     },
     "metadata": {},
     "output_type": "display_data"
    }
   ],
   "source": [
    "x_1 = np.linspace(0,1)\n",
    "x_2 = np.linspace(1,2)\n",
    "x_3 = np.linspace(2,3)\n",
    "fig, ax = plt.subplots(1,1)\n",
    "ax.plot(x_1, p1(x_1), c='blue')\n",
    "ax.plot(x_2, p2(x_2), c='blue')\n",
    "ax.plot(x_3, p3(x_3), c='blue')"
   ]
  },
  {
   "cell_type": "code",
   "execution_count": 60,
   "metadata": {},
   "outputs": [],
   "source": [
    "from scipy.interpolate import CubicSpline"
   ]
  },
  {
   "cell_type": "code",
   "execution_count": 62,
   "metadata": {},
   "outputs": [],
   "source": [
    "cs  = CubicSpline([0,1,2,3],[0,1,1,2])"
   ]
  },
  {
   "cell_type": "code",
   "execution_count": 63,
   "metadata": {},
   "outputs": [
    {
     "data": {
      "text/plain": [
       "[<matplotlib.lines.Line2D at 0x12ab45010>]"
      ]
     },
     "execution_count": 63,
     "metadata": {},
     "output_type": "execute_result"
    },
    {
     "data": {
      "image/png": "[encoded data removed]",
      "text/plain": [
       "<Figure size 640x480 with 1 Axes>"
      ]
     },
     "metadata": {},
     "output_type": "display_data"
    }
   ],
   "source": [
    "x = np.linspace(0,3)\n",
    "y = cs(x)\n",
    "\n",
    "plt.plot(x,y)"
   ]
  },
  {
   "cell_type": "markdown",
   "metadata": {},
   "source": []
  },
  {
   "cell_type": "markdown",
   "metadata": {},
   "source": [
    "$||f-p||_{\\infty} <= ||w_4^{Cheb}|| \\frac{||f^{(4)}||}{24}$\n",
    "\n",
    "\n",
    "$ = 2\\frac{(b-a)^4}{4}  \\frac{1}{12} $\n",
    "\n",
    "$= \\frac{2 \\cdot 3^4}{12 \\cdot 4^4}$"
   ]
  }
 ],
 "metadata": {
  "kernelspec": {
   "display_name": "Python 3",
   "language": "python",
   "name": "python3"
  },
  "language_info": {
   "codemirror_mode": {
    "name": "ipython",
    "version": 3
   },
   "file_extension": ".py",
   "mimetype": "text/x-python",
   "name": "python",
   "nbconvert_exporter": "python",
   "pygments_lexer": "ipython3",
   "version": "3.11.6"
  }
 },
 "nbformat": 4,
 "nbformat_minor": 2
}
