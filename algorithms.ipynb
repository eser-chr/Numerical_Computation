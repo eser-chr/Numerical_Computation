{
 "cells": [
  {
   "cell_type": "code",
   "execution_count": 78,
   "metadata": {},
   "outputs": [],
   "source": [
    "import numpy as np\n",
    "import matplotlib.pyplot as plt\n",
    "from typing import Callable, List\n",
    "\n",
    "\n",
    "#TODO: Fix your notation on what is len(knots) and the last knot. e.g if x = [x0, x1, ..., xn] then len(knots) = n+1/\n",
    "#       Try except blocks for inputs"
   ]
  },
  {
   "cell_type": "code",
   "execution_count": 4,
   "metadata": {},
   "outputs": [],
   "source": [
    "def neville_scheme(x:float, knots:np.ndarray, f:Callable)->float: # Cost O(n^2) | additional Mem O(n^2)\n",
    "    \"\"\" With memorizing the whole matrix. Its better if you need to add knots later.\"\"\"\n",
    "    n = len(knots)\n",
    "    p = np.zeros((n,n))\n",
    "    p[:,0] = f(knots)\n",
    "\n",
    "    for i in range(1,n):\n",
    "        for j in range(n-i):\n",
    "            p[i,j] = ((x-knots[j])*p[i-1, j+1]-(x-knots[i-1, j+i])*p[j])/(knots[j+i]-knots[j])\n",
    "    return p[-1,0]    "
   ]
  },
  {
   "cell_type": "code",
   "execution_count": 2,
   "metadata": {},
   "outputs": [],
   "source": [
    "def neville_scheme(x:float, knots:np.ndarray, f:Callable)->float: # Cost O(n^2) | add Mem O(n)\n",
    "    n = len(knots)\n",
    "    p = f(knots)\n",
    "\n",
    "    for i in range(1,n):\n",
    "        for j in range(n-i):\n",
    "            p[j] = ((x-knots[j])*p[j+1]-(x-knots[j+i])*p[j])/(knots[j+i]-knots[j])\n",
    "    return p[0]    "
   ]
  },
  {
   "cell_type": "code",
   "execution_count": 7,
   "metadata": {},
   "outputs": [],
   "source": [
    "def Horner_scheme(x:float, knots:np.ndarray, coef: np.ndarray)->float: # Cost O(n) | add Mem O(1)\n",
    "    n = len(knots)-1\n",
    "    y = coef[n]\n",
    "    for i in range(n-1,-1,-1):\n",
    "        y = coef[i] +(x-knots[i])*y\n",
    "    return y"
   ]
  },
  {
   "cell_type": "code",
   "execution_count": 8,
   "metadata": {},
   "outputs": [],
   "source": [
    "def divided_differences(knots:np.ndarray, f: Callable, values:None|np.ndarray = None)->np.ndarray: # Cost O(n^2)\n",
    "    if values == None:\n",
    "        values = f(knots)\n",
    "    n = len(knots)\n",
    "    res = np.zeros((n,n))\n",
    "    res[:,0] = values\n",
    "\n",
    "    for i in range(1, n):\n",
    "        for j in range(n-i):\n",
    "            res[j,i] = (res[j,i-1]-res[j-1,i-1])/(knots[j]-knots[j-1])\n",
    "    \n",
    "    return res[0,:]    "
   ]
  },
  {
   "cell_type": "code",
   "execution_count": 9,
   "metadata": {},
   "outputs": [],
   "source": [
    "def uniform_points(a:float, b:float, N:int)->np.ndarray:\n",
    "    return np.linspace(a,b,N,endpoint=True)"
   ]
  },
  {
   "cell_type": "code",
   "execution_count": 29,
   "metadata": {},
   "outputs": [],
   "source": [
    "def chebysev_points(a:float, b:float, N:int)->np.ndarray:\n",
    "    x = np.pi * (2*np.arange(N)+1)/(2*N+2)\n",
    "    return (b+a)/2 + (b-a)*np.cos(x)/2\n"
   ]
  },
  {
   "cell_type": "code",
   "execution_count": 37,
   "metadata": {},
   "outputs": [],
   "source": [
    "def forward_substitution(L:np.ndarray, b:np.ndarray)->np.ndarray: # Cost O(n^2)\n",
    "    x = np.zeros(len(b))\n",
    "    for i in range(len(b)):\n",
    "        x[i] = (b[i] - np.dot(L[i,:i-1], x[:i-1]))/L[i,i]\n",
    "    return x"
   ]
  },
  {
   "cell_type": "code",
   "execution_count": 42,
   "metadata": {},
   "outputs": [],
   "source": [
    "def backward_substitution(U:np.ndarray, b:np.ndarray)->np.ndarray: # Cost O(n^2)\n",
    "    x = np.zeros(len(b))\n",
    "    for i in range(len(b)-1,-1,-1):\n",
    "        x[i] = (b[i] - np.dot(U[i,i-1:], x[i-1:]) ) / U[i,i]\n",
    "    return x"
   ]
  },
  {
   "cell_type": "code",
   "execution_count": null,
   "metadata": {},
   "outputs": [],
   "source": []
  },
  {
   "cell_type": "code",
   "execution_count": 88,
   "metadata": {},
   "outputs": [],
   "source": [
    "def gaussian_elimination(A:np.ndarray)->List[np.ndarray]: # Cost O(n^3) | Mem here twice as much, because theoretically one can store everything on the initial matrix. No need for copying\n",
    "    U = A.copy()\n",
    "    L = np.eye(len(U))\n",
    "\n",
    "    for i in range(len(U)):\n",
    "        for j in range(i+1, len(U)):\n",
    "            factor =  U[j,i]/U[i,i]\n",
    "            U[j,i:] = U[j,i:]- factor*U[i,i:]\n",
    "            L[j,i] = factor\n",
    "            \n",
    "    return [L, U]"
   ]
  },
  {
   "cell_type": "code",
   "execution_count": 139,
   "metadata": {},
   "outputs": [],
   "source": [
    "def gaussian_elimination_with_pivoting(A:np.ndarray)->List[np.ndarray]:\n",
    "    U = A.copy()\n",
    "    n=len(U)\n",
    "    L = np.eye(n)\n",
    "    perm = list(range(n))\n",
    "\n",
    "    for i in range(n):\n",
    "        index_of_largest = np.argmax(np.abs(U[i:,i]))\n",
    "        perm[i], perm[index_of_largest] = perm[index_of_largest], perm[i]\n",
    "\n",
    "        for j in range(i+1, len(U)):\n",
    "            factor =  U[perm[j],i]/U[perm[i],i]\n",
    "            U[perm[j],i:] = U[perm[j],i:]- factor*U[perm[i],i:]\n",
    "            L[perm[j],i] = factor\n",
    "            \n",
    "    return [L, U]"
   ]
  },
  {
   "cell_type": "code",
   "execution_count": null,
   "metadata": {},
   "outputs": [],
   "source": [
    "list()"
   ]
  },
  {
   "cell_type": "code",
   "execution_count": 109,
   "metadata": {},
   "outputs": [],
   "source": [
    "def crouts(A:np.ndarray)->List[np.ndarray]:\n",
    "    n = len(A)\n",
    "    U = np.zeros((n,n))\n",
    "    L = np.eye(n)\n",
    "\n",
    "    for i in range(n):\n",
    "        for j in range(i,n):\n",
    "            U[i,j] = A[i,j] - np.dot(L[i, :i-1], U[:i-1, j])\n",
    "        \n",
    "        for j in range(i+1, n):\n",
    "            L[j, i] = (A[j,i]-np.dot(L[j, :i-1], U[:i-1, i]))/U[i,i]\n",
    "\n",
    "    return [L,U]"
   ]
  },
  {
   "cell_type": "code",
   "execution_count": 117,
   "metadata": {},
   "outputs": [],
   "source": [
    "def crouts_w_overwriting(A:np.ndarray):\n",
    "    n = len(A)\n",
    "    \n",
    "    for i in range(n):\n",
    "        for j in range(i,n):\n",
    "            A[i,j] = A[i,j] - np.dot(A[i, :i-1], A[:i-1, j])\n",
    "        \n",
    "        for j in range(i+1, n):\n",
    "            A[j, i] = (A[j,i]-np.dot(A[j, :i-1], A[:i-1, i]))/A[i,i]\n"
   ]
  },
  {
   "cell_type": "code",
   "execution_count": 125,
   "metadata": {},
   "outputs": [],
   "source": [
    "def RandomSPD(n:int)->np.ndarray:\n",
    "    A = np.random.random((n,n))\n",
    "    A = np.matmul(A.T, A)\n",
    "    return A+0.1*np.eye(n)"
   ]
  },
  {
   "cell_type": "code",
   "execution_count": 137,
   "metadata": {},
   "outputs": [],
   "source": [
    "def cholesky(A:np.ndarray)->np.ndarray: # Needs to be fixed! # Half computations than LU as half terms need to be computed\n",
    "    n = len(A)\n",
    "    L = np.zeros((n,n))\n",
    "    # L[0,0] = np.sqrt(A[0,0])\n",
    "    # L = np.eye(n)\n",
    "\n",
    "    for i in range(n):\n",
    "        for j in range(i+1):\n",
    "            sum_term = np.sum(L[i,:j]*L[j,:j])\n",
    "            if i == j:\n",
    "                L[i,j] = np.sqrt(A[i,i]-sum_term)\n",
    "            else:\n",
    "                L[i,j] = (A[i,i]-sum_term)/ L[j,j]\n",
    "    return L"
   ]
  },
  {
   "cell_type": "code",
   "execution_count": null,
   "metadata": {},
   "outputs": [],
   "source": [
    "def Gram_Schmidt():# You decide\n",
    "    pass"
   ]
  },
  {
   "cell_type": "code",
   "execution_count": null,
   "metadata": {},
   "outputs": [],
   "source": [
    "def Householder():\n",
    "    pass"
   ]
  },
  {
   "cell_type": "code",
   "execution_count": null,
   "metadata": {},
   "outputs": [],
   "source": [
    "def given_rotations():\n",
    "    pass1"
   ]
  },
  {
   "cell_type": "code",
   "execution_count": null,
   "metadata": {},
   "outputs": [],
   "source": []
  },
  {
   "cell_type": "code",
   "execution_count": 165,
   "metadata": {},
   "outputs": [],
   "source": [
    "def gaussian_elimination_with_pivoting(A:np.ndarray)->List[np.ndarray]: # Problematic\n",
    "    U = A.copy()\n",
    "    n=len(U)\n",
    "    L = np.eye(n)\n",
    "    perm = list(range(n))\n",
    "\n",
    "    for i in range(n-1):\n",
    "        print(perm)\n",
    "        print(L)\n",
    "        print(U)\n",
    "        print('-----------------')\n",
    "        index_of_largest = np.argmax(np.abs(A[i:,i])) + i\n",
    "        perm[i], perm[index_of_largest] = perm[index_of_largest], perm[i]\n",
    "\n",
    "        for j in range(i+1, n):\n",
    "            factor =  U[perm[j],i]/U[perm[i],i]\n",
    "            L[perm[j],i] = factor\n",
    "            for m in range(i+1, n):\n",
    "                U[perm[j],m] = U[perm[j],m]- L[perm[j], i]*U[perm[i],m]\n",
    "            \n",
    "    return [L, U]"
   ]
  },
  {
   "cell_type": "code",
   "execution_count": 140,
   "metadata": {},
   "outputs": [
    {
     "data": {
      "text/plain": [
       "array([[0.66430596, 0.74689251, 0.12184275, 0.36929198],\n",
       "       [0.94085048, 0.6081773 , 0.64240597, 0.49317733],\n",
       "       [0.42198853, 0.1753529 , 0.34194809, 0.57304141],\n",
       "       [0.93723288, 0.1982729 , 0.60886183, 0.914059  ]])"
      ]
     },
     "execution_count": 140,
     "metadata": {},
     "output_type": "execute_result"
    }
   ],
   "source": [
    "A = np.random.random((4,4))\n",
    "A"
   ]
  },
  {
   "cell_type": "code",
   "execution_count": 141,
   "metadata": {},
   "outputs": [],
   "source": [
    "L, U = gaussian_elimination(A)"
   ]
  },
  {
   "cell_type": "code",
   "execution_count": 166,
   "metadata": {},
   "outputs": [
    {
     "name": "stdout",
     "output_type": "stream",
     "text": [
      "[0, 1, 2, 3]\n",
      "[[1. 0. 0. 0.]\n",
      " [0. 1. 0. 0.]\n",
      " [0. 0. 1. 0.]\n",
      " [0. 0. 0. 1.]]\n",
      "[[0.66430596 0.74689251 0.12184275 0.36929198]\n",
      " [0.94085048 0.6081773  0.64240597 0.49317733]\n",
      " [0.42198853 0.1753529  0.34194809 0.57304141]\n",
      " [0.93723288 0.1982729  0.60886183 0.914059  ]]\n",
      "-----------------\n",
      "[1, 0, 2, 3]\n",
      "[[0.70606964 0.         0.         0.        ]\n",
      " [0.         1.         0.         0.        ]\n",
      " [0.44851817 0.         1.         0.        ]\n",
      " [0.99615497 0.         0.         1.        ]]\n",
      "[[ 0.66430596  0.31747699 -0.3317406   0.02107445]\n",
      " [ 0.94085048  0.6081773   0.64240597  0.49317733]\n",
      " [ 0.42198853 -0.09742567  0.05381734  0.35184242]\n",
      " [ 0.93723288 -0.40756593 -0.03107407  0.42277795]]\n",
      "-----------------\n",
      "[1, 0, 2, 3]\n",
      "[[ 0.70606964  0.          0.          0.        ]\n",
      " [ 0.          1.          0.          0.        ]\n",
      " [ 0.44851817 -0.30687473  1.          0.        ]\n",
      " [ 0.99615497 -1.28376528  0.          1.        ]]\n",
      "[[ 0.66430596  0.31747699 -0.3317406   0.02107445]\n",
      " [ 0.94085048  0.6081773   0.64240597  0.49317733]\n",
      " [ 0.42198853 -0.09742567 -0.04798547  0.35830964]\n",
      " [ 0.93723288 -0.40756593 -0.45695113  0.44983259]]\n",
      "-----------------\n"
     ]
    }
   ],
   "source": [
    "l,u = gaussian_elimination_with_pivoting(A)"
   ]
  },
  {
   "cell_type": "code",
   "execution_count": 167,
   "metadata": {},
   "outputs": [
    {
     "data": {
      "text/plain": [
       "array([[ 0.46904627,  0.22416086, -0.23423196,  0.01488003],\n",
       "       [ 0.94085048,  0.6081773 ,  0.64240597,  0.49317733],\n",
       "       [ 0.05354402, -0.05447094, -0.35096891, -0.10922505],\n",
       "       [ 0.39115338, -0.87206655, -1.61211465, -0.16229792]])"
      ]
     },
     "execution_count": 167,
     "metadata": {},
     "output_type": "execute_result"
    }
   ],
   "source": [
    "np.matmul(l,u)"
   ]
  },
  {
   "cell_type": "code",
   "execution_count": 159,
   "metadata": {},
   "outputs": [
    {
     "data": {
      "text/plain": [
       "array([[ 0.70606964,  0.        ,  0.        ,  0.        ],\n",
       "       [ 0.        ,  1.        ,  0.        ,  0.        ],\n",
       "       [ 0.44851817, -0.30687473,  0.10501225,  0.        ],\n",
       "       [ 0.99615497, -1.28376528,  0.        ,  1.        ]])"
      ]
     },
     "execution_count": 159,
     "metadata": {},
     "output_type": "execute_result"
    }
   ],
   "source": [
    "l"
   ]
  },
  {
   "cell_type": "code",
   "execution_count": 160,
   "metadata": {},
   "outputs": [
    {
     "data": {
      "text/plain": [
       "array([[ 0.        ,  0.31747699, -0.3317406 ,  0.02107445],\n",
       "       [ 0.94085048,  0.6081773 ,  0.64240597,  0.49317733],\n",
       "       [ 0.        ,  0.        ,  0.        ,  0.3110717 ],\n",
       "       [ 0.        ,  0.        , -0.45695113,  0.44983259]])"
      ]
     },
     "execution_count": 160,
     "metadata": {},
     "output_type": "execute_result"
    }
   ],
   "source": [
    "u"
   ]
  },
  {
   "cell_type": "code",
   "execution_count": null,
   "metadata": {},
   "outputs": [],
   "source": []
  },
  {
   "cell_type": "code",
   "execution_count": null,
   "metadata": {},
   "outputs": [],
   "source": []
  },
  {
   "cell_type": "code",
   "execution_count": 120,
   "metadata": {},
   "outputs": [
    {
     "data": {
      "text/plain": [
       "array([[0.6777794 , 0.88904444, 0.86691284, 0.39322293],\n",
       "       [0.61429154, 0.95491742, 0.69707534, 0.76606492],\n",
       "       [0.26043831, 0.84837119, 0.20780333, 0.28897602],\n",
       "       [0.58874101, 0.73858399, 0.30016066, 0.76322206]])"
      ]
     },
     "execution_count": 120,
     "metadata": {},
     "output_type": "execute_result"
    }
   ],
   "source": [
    "np.matmul(L,U)"
   ]
  },
  {
   "cell_type": "code",
   "execution_count": 121,
   "metadata": {},
   "outputs": [],
   "source": [
    "crouts_w_overwriting(A)"
   ]
  },
  {
   "cell_type": "code",
   "execution_count": 122,
   "metadata": {},
   "outputs": [
    {
     "data": {
      "text/plain": [
       "array([[-0.55351531, -0.20328375,  1.30831908,  0.38853355],\n",
       "       [-0.33633848,  0.95491742,  0.69707534,  0.76606492],\n",
       "       [-1.14868518,  0.88842363,  1.71065006,  0.73527875],\n",
       "       [-2.72408454,  0.77345326,  2.25886785,  1.22910488]])"
      ]
     },
     "execution_count": 122,
     "metadata": {},
     "output_type": "execute_result"
    }
   ],
   "source": [
    "A"
   ]
  },
  {
   "cell_type": "code",
   "execution_count": 124,
   "metadata": {},
   "outputs": [
    {
     "data": {
      "text/plain": [
       "array([[ 0.6777794 ,  0.88904444,  0.86691284,  0.39322293],\n",
       "       [ 0.        ,  0.14915012, -0.08863343,  0.40967534],\n",
       "       [ 0.        ,  0.        ,  0.1758318 , -1.2540375 ],\n",
       "       [ 0.        ,  0.        ,  0.        , -2.85842739]])"
      ]
     },
     "execution_count": 124,
     "metadata": {},
     "output_type": "execute_result"
    }
   ],
   "source": [
    "U"
   ]
  },
  {
   "cell_type": "code",
   "execution_count": 123,
   "metadata": {},
   "outputs": [
    {
     "data": {
      "text/plain": [
       "array([[ 1.        ,  0.        ,  0.        ,  0.        ],\n",
       "       [ 0.90632961,  1.        ,  0.        ,  0.        ],\n",
       "       [ 0.38425233,  3.39760916,  1.        ,  0.        ],\n",
       "       [ 0.8686322 , -0.2257366 , -2.68936302,  1.        ]])"
      ]
     },
     "execution_count": 123,
     "metadata": {},
     "output_type": "execute_result"
    }
   ],
   "source": [
    "L"
   ]
  },
  {
   "cell_type": "code",
   "execution_count": 43,
   "metadata": {},
   "outputs": [],
   "source": [
    "U = np.array([\n",
    "    [1, 2, 3, 4],\n",
    "    [0, 1, 4, 5],\n",
    "    [0, 0, 1, 6],\n",
    "    [0, 0, 0, 1]\n",
    "])\n",
    "\n",
    "b = np.array([1,2,3,4])"
   ]
  },
  {
   "cell_type": "code",
   "execution_count": 44,
   "metadata": {},
   "outputs": [
    {
     "data": {
      "text/plain": [
       "array([-15.,  66., -21.,   4.])"
      ]
     },
     "execution_count": 44,
     "metadata": {},
     "output_type": "execute_result"
    }
   ],
   "source": [
    "backward_substitution(U,b)"
   ]
  },
  {
   "cell_type": "code",
   "execution_count": null,
   "metadata": {},
   "outputs": [],
   "source": []
  }
 ],
 "metadata": {
  "kernelspec": {
   "display_name": "Python 3",
   "language": "python",
   "name": "python3"
  },
  "language_info": {
   "codemirror_mode": {
    "name": "ipython",
    "version": 3
   },
   "file_extension": ".py",
   "mimetype": "text/x-python",
   "name": "python",
   "nbconvert_exporter": "python",
   "pygments_lexer": "ipython3",
   "version": "3.11.6"
  }
 },
 "nbformat": 4,
 "nbformat_minor": 2
}
