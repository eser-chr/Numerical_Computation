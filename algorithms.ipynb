{
 "cells": [
  {
   "cell_type": "code",
   "execution_count": 2,
   "metadata": {},
   "outputs": [],
   "source": [
    "import numpy as np\n",
    "import matplotlib.pyplot as plt\n",
    "from typing import Callable, List\n",
    "import unittest\n",
    "\n",
    "#TODO: Fix your notation on what is len(knots) and the last knot. e.g if x = [x0, x1, ..., xn] then len(knots) = n+1/\n",
    "#       Try except blocks for inputs"
   ]
  },
  {
   "cell_type": "code",
   "execution_count": 4,
   "metadata": {},
   "outputs": [],
   "source": [
    "def neville_scheme(x:float, knots:np.ndarray, f:Callable)->float: # Cost O(n^2) | additional Mem O(n^2)\n",
    "    \"\"\" With memorizing the whole matrix. Its better if you need to add knots later.\"\"\"\n",
    "    n = len(knots)\n",
    "    p = np.zeros((n,n))\n",
    "    p[:,0] = f(knots)\n",
    "\n",
    "    for i in range(1,n):\n",
    "        for j in range(n-i):\n",
    "            p[i,j] = ((x-knots[j])*p[i-1, j+1]-(x-knots[i-1, j+i])*p[j])/(knots[j+i]-knots[j])\n",
    "    return p[-1,0]    "
   ]
  },
  {
   "cell_type": "code",
   "execution_count": 2,
   "metadata": {},
   "outputs": [],
   "source": [
    "def neville_scheme(x:float, knots:np.ndarray, f:Callable)->float: # Cost O(n^2) | add Mem O(n)\n",
    "    n = len(knots)\n",
    "    p = f(knots)\n",
    "\n",
    "    for i in range(1,n):\n",
    "        for j in range(n-i):\n",
    "            p[j] = ((x-knots[j])*p[j+1]-(x-knots[j+i])*p[j])/(knots[j+i]-knots[j])\n",
    "    return p[0]    "
   ]
  },
  {
   "cell_type": "code",
   "execution_count": 7,
   "metadata": {},
   "outputs": [],
   "source": [
    "def Horner_scheme(x:float, knots:np.ndarray, coef: np.ndarray)->float: # Cost O(n) | add Mem O(1)\n",
    "    n = len(knots)-1\n",
    "    y = coef[n]\n",
    "    for i in range(n-1,-1,-1):\n",
    "        y = coef[i] +(x-knots[i])*y\n",
    "    return y"
   ]
  },
  {
   "cell_type": "code",
   "execution_count": 8,
   "metadata": {},
   "outputs": [],
   "source": [
    "def divided_differences(knots:np.ndarray, f: Callable, values:None|np.ndarray = None)->np.ndarray: # Cost O(n^2)\n",
    "    if values == None:\n",
    "        values = f(knots)\n",
    "    n = len(knots)\n",
    "    res = np.zeros((n,n))\n",
    "    res[:,0] = values\n",
    "\n",
    "    for i in range(1, n):\n",
    "        for j in range(n-i):\n",
    "            res[j,i] = (res[j,i-1]-res[j-1,i-1])/(knots[j]-knots[j-1])\n",
    "    \n",
    "    return res[0,:]    "
   ]
  },
  {
   "cell_type": "code",
   "execution_count": 9,
   "metadata": {},
   "outputs": [],
   "source": [
    "def uniform_points(a:float, b:float, N:int)->np.ndarray:\n",
    "    return np.linspace(a,b,N,endpoint=True)"
   ]
  },
  {
   "cell_type": "code",
   "execution_count": 29,
   "metadata": {},
   "outputs": [],
   "source": [
    "def chebysev_points(a:float, b:float, N:int)->np.ndarray:\n",
    "    x = np.pi * (2*np.arange(N)+1)/(2*N+2)\n",
    "    return (b+a)/2 + (b-a)*np.cos(x)/2\n"
   ]
  },
  {
   "cell_type": "code",
   "execution_count": 37,
   "metadata": {},
   "outputs": [],
   "source": [
    "def forward_substitution(L:np.ndarray, b:np.ndarray)->np.ndarray: # Cost O(n^2)\n",
    "    x = np.zeros(len(b))\n",
    "    for i in range(len(b)):\n",
    "        x[i] = (b[i] - np.dot(L[i,:i-1], x[:i-1]))/L[i,i]\n",
    "    return x"
   ]
  },
  {
   "cell_type": "code",
   "execution_count": 42,
   "metadata": {},
   "outputs": [],
   "source": [
    "def backward_substitution(U:np.ndarray, b:np.ndarray)->np.ndarray: # Cost O(n^2)\n",
    "    x = np.zeros(len(b))\n",
    "    for i in range(len(b)-1,-1,-1):\n",
    "        x[i] = (b[i] - np.dot(U[i,i-1:], x[i-1:]) ) / U[i,i]\n",
    "    return x"
   ]
  },
  {
   "cell_type": "code",
   "execution_count": 88,
   "metadata": {},
   "outputs": [],
   "source": [
    "def gaussian_elimination(A:np.ndarray)->List[np.ndarray]: # Cost O(n^3) | Mem here twice as much, because theoretically one can store everything on the initial matrix. No need for copying\n",
    "    U = A.copy()\n",
    "    L = np.eye(len(U))\n",
    "\n",
    "    for i in range(len(U)):\n",
    "        for j in range(i+1, len(U)):\n",
    "            factor =  U[j,i]/U[i,i]\n",
    "            U[j,i:] = U[j,i:]- factor*U[i,i:]\n",
    "            L[j,i] = factor\n",
    "            \n",
    "    return [L, U]"
   ]
  },
  {
   "cell_type": "code",
   "execution_count": 139,
   "metadata": {},
   "outputs": [],
   "source": [
    "def gaussian_elimination_with_pivoting(A:np.ndarray)->List[np.ndarray]:\n",
    "    U = A.copy()\n",
    "    n=len(U)\n",
    "    L = np.eye(n)\n",
    "    perm = list(range(n))\n",
    "\n",
    "    for i in range(n):\n",
    "        index_of_largest = np.argmax(np.abs(U[i:,i]))\n",
    "        perm[i], perm[index_of_largest] = perm[index_of_largest], perm[i]\n",
    "\n",
    "        for j in range(i+1, len(U)):\n",
    "            factor =  U[perm[j],i]/U[perm[i],i]\n",
    "            U[perm[j],i:] = U[perm[j],i:]- factor*U[perm[i],i:]\n",
    "            L[perm[j],i] = factor\n",
    "            \n",
    "    return [L, U]"
   ]
  },
  {
   "cell_type": "code",
   "execution_count": 109,
   "metadata": {},
   "outputs": [],
   "source": [
    "def crouts(A:np.ndarray)->List[np.ndarray]:\n",
    "    n = len(A)\n",
    "    U = np.zeros((n,n))\n",
    "    L = np.eye(n)\n",
    "\n",
    "    for i in range(n):\n",
    "        for j in range(i,n):\n",
    "            U[i,j] = A[i,j] - np.dot(L[i, :i-1], U[:i-1, j])\n",
    "        \n",
    "        for j in range(i+1, n):\n",
    "            L[j, i] = (A[j,i]-np.dot(L[j, :i-1], U[:i-1, i]))/U[i,i]\n",
    "\n",
    "    return [L,U]"
   ]
  },
  {
   "cell_type": "code",
   "execution_count": 117,
   "metadata": {},
   "outputs": [],
   "source": [
    "def crouts_w_overwriting(A:np.ndarray):\n",
    "    n = len(A)\n",
    "    \n",
    "    for i in range(n):\n",
    "        for j in range(i,n):\n",
    "            A[i,j] = A[i,j] - np.dot(A[i, :i-1], A[:i-1, j])\n",
    "        \n",
    "        for j in range(i+1, n):\n",
    "            A[j, i] = (A[j,i]-np.dot(A[j, :i-1], A[:i-1, i]))/A[i,i]\n"
   ]
  },
  {
   "cell_type": "code",
   "execution_count": 125,
   "metadata": {},
   "outputs": [],
   "source": [
    "def RandomSPD(n:int)->np.ndarray:\n",
    "    A = np.random.random((n,n))\n",
    "    A = np.matmul(A.T, A)\n",
    "    return A+0.1*np.eye(n)"
   ]
  },
  {
   "cell_type": "code",
   "execution_count": 137,
   "metadata": {},
   "outputs": [],
   "source": [
    "def cholesky(A:np.ndarray)->np.ndarray: # Needs to be fixed! # Half computations than LU as half terms need to be computed\n",
    "    n = len(A)\n",
    "    L = np.zeros((n,n))\n",
    "    # L[0,0] = np.sqrt(A[0,0])\n",
    "    # L = np.eye(n)\n",
    "\n",
    "    for i in range(n):\n",
    "        for j in range(i+1):\n",
    "            sum_term = np.sum(L[i,:j]*L[j,:j])\n",
    "            if i == j:\n",
    "                L[i,j] = np.sqrt(A[i,i]-sum_term)\n",
    "            else:\n",
    "                L[i,j] = (A[i,i]-sum_term)/ L[j,j]\n",
    "    return L"
   ]
  },
  {
   "cell_type": "code",
   "execution_count": null,
   "metadata": {},
   "outputs": [],
   "source": [
    "def Gram_Schmidt():# You decide\n",
    "    pass"
   ]
  },
  {
   "cell_type": "code",
   "execution_count": null,
   "metadata": {},
   "outputs": [],
   "source": [
    "def Householder():\n",
    "    pass"
   ]
  },
  {
   "cell_type": "code",
   "execution_count": null,
   "metadata": {},
   "outputs": [],
   "source": [
    "def given_rotations():\n",
    "    pass1"
   ]
  },
  {
   "cell_type": "code",
   "execution_count": 34,
   "metadata": {},
   "outputs": [],
   "source": [
    "def FFT(n:int, y:np.ndarray)->np.ndarray:\n",
    "    if n==1:\n",
    "        return y\n",
    "    m = n//2\n",
    "    powers = np.arange(0,m)\n",
    "    w = np.exp((-2j*np.pi)/n)**powers\n",
    "\n",
    "    g = y[:m]+y[m:]\n",
    "    h = w*(y[:m]-y[m:])\n",
    "\n",
    "    y1 = FFT(m,g)\n",
    "    y2 = FFT(m,h)\n",
    "\n",
    "    return np.vstack((y1, y2)).ravel(order='F')\n"
   ]
  },
  {
   "cell_type": "code",
   "execution_count": 35,
   "metadata": {},
   "outputs": [],
   "source": [
    "class TestFFTFunction(unittest.TestCase):\n",
    "\n",
    "    def test_fft(self):\n",
    "        # Test case 1\n",
    "        n1 = 8\n",
    "        y1 = np.array([1, 2, 3, 4, 5, 6, 7, 8], dtype=complex)\n",
    "        result1 = FFT(n1, y1)\n",
    "        expected_result1 = np.fft.fft(y1)\n",
    "        np.testing.assert_allclose(result1, expected_result1, rtol=1e-10)\n",
    "\n",
    "        # Test case 2\n",
    "        n2 = 16\n",
    "        y2 = np.array([1, 0, 0, 0, 0, 0, 0, 0, 0, 0, 0, 0, 0, 0, 0, 0], dtype=complex)\n",
    "        result2 = FFT(n2, y2)\n",
    "        expected_result2 = np.fft.fft(y2)\n",
    "        np.testing.assert_allclose(result2, expected_result2, rtol=1e-10)"
   ]
  },
  {
   "cell_type": "code",
   "execution_count": null,
   "metadata": {},
   "outputs": [],
   "source": [
    "def trapezoidal():\n",
    "    pass\n",
    "\n",
    "def simpson():\n",
    "    pass\n",
    "\n",
    "def three_eight():\n",
    "    pass\n",
    "\n",
    "def milne():\n",
    "    pass\n",
    "\n",
    "def weddle():\n",
    "    pass\n",
    "\n",
    "def adaptive_trapezoidal():\n",
    "    pass"
   ]
  },
  {
   "cell_type": "code",
   "execution_count": 165,
   "metadata": {},
   "outputs": [],
   "source": [
    "def gaussian_elimination_with_pivoting(A:np.ndarray)->List[np.ndarray]: # Problematic\n",
    "    U = A.copy()\n",
    "    n=len(U)\n",
    "    L = np.eye(n)\n",
    "    perm = list(range(n))\n",
    "\n",
    "    for i in range(n-1):\n",
    "        print(perm)\n",
    "        print(L)\n",
    "        print(U)\n",
    "        print('-----------------')\n",
    "        index_of_largest = np.argmax(np.abs(A[i:,i])) + i\n",
    "        perm[i], perm[index_of_largest] = perm[index_of_largest], perm[i]\n",
    "\n",
    "        for j in range(i+1, n):\n",
    "            factor =  U[perm[j],i]/U[perm[i],i]\n",
    "            L[perm[j],i] = factor\n",
    "            for m in range(i+1, n):\n",
    "                U[perm[j],m] = U[perm[j],m]- L[perm[j], i]*U[perm[i],m]\n",
    "            \n",
    "    return [L, U]"
   ]
  },
  {
   "cell_type": "code",
   "execution_count": null,
   "metadata": {},
   "outputs": [],
   "source": [
    "def SVD():\n",
    "    pass\n",
    "\n",
    "def golub_kahan():\n",
    "    pass"
   ]
  },
  {
   "cell_type": "code",
   "execution_count": 40,
   "metadata": {},
   "outputs": [],
   "source": [
    "def globalised_descent_Newton(x0:np.ndarray, f:np.ndarray, df:np.ndarray, max_iter = 100, tol = np.finfo(float).eps, \n",
    "                              mu:float=0.1, q:float = 0.5): # UNITTEST FAILED ChatGpt cannot help\n",
    "    l = 1\n",
    "    n = 0\n",
    "    err = 1.0\n",
    "    x = x0\n",
    "    while(n<max_iter and err>tol):\n",
    "        direction = np.linalg.solve(df(x), f(x))\n",
    "        while(np.linalg.norm(f(x)) - np.linalg.norm(f(x+l*direction)) > mu * l *np.linalg.norm(f(x))):\n",
    "            l = l*q\n",
    "        x_new = x + l*direction\n",
    "        l = min(1, l/q)\n",
    "        err = np.linalg.norm(np.abs(x_new-x))\n",
    "        x=x_new\n",
    "        n+=1\n",
    "    return x"
   ]
  },
  {
   "cell_type": "code",
   "execution_count": 41,
   "metadata": {},
   "outputs": [],
   "source": [
    "class TestGlobalisedDescentNewton(unittest.TestCase):\n",
    "\n",
    "    def test_convergence(self):\n",
    "        x0 = np.array([1.0, 1.0])\n",
    "        f = lambda x: np.array([x[0]**2 + x[1]**2 - 1.0, x[0] - x[1]])\n",
    "        df = lambda x: np.array([[2*x[0], 2*x[1]], [1, -1]])\n",
    "\n",
    "        result = globalised_descent_Newton(x0, f, df)\n",
    "        expected_result = np.array([1.0, 0.0])  # Replace with the expected result for your specific problem\n",
    "        self.assertTrue(np.allclose(result, expected_result))\n",
    "\n",
    "    def test_max_iterations(self):\n",
    "        x0 = np.array([1.0, 1.0])\n",
    "        f = lambda x: np.array([x[0]**2 + x[1]**2 - 1.0, x[0] - x[1]])\n",
    "        df = lambda x: np.array([[2*x[0], 2*x[1]], [1, -1]])\n",
    "\n",
    "        with self.assertRaises(YourSpecificException):  # Replace 'YourSpecificException' with the actual exception your function raises for maximum iterations\n",
    "            globalised_descent_Newton(x0, f, df, max_iter=1)\n",
    "\n",
    "    def test_custom_tolerance(self):\n",
    "        x0 = np.array([1.0, 1.0])\n",
    "        f = lambda x: np.array([x[0]**2 + x[1]**2 - 1.0, x[0] - x[1]])\n",
    "        df = lambda x: np.array([[2*x[0], 2*x[1]], [1, -1]])\n",
    "\n",
    "        result = globalised_descent_Newton(x0, f, df, tol=1e-6)\n",
    "        expected_result = np.array([1.0, 0.0])  # Replace with the expected result for your specific problem\n",
    "        self.assertTrue(np.allclose(result, expected_result))"
   ]
  },
  {
   "cell_type": "code",
   "execution_count": 42,
   "metadata": {},
   "outputs": [],
   "source": [
    "x0 = np.array([1.0, 1.0])\n",
    "f = lambda x: np.array([x[0]**2 - x[1]**2 - 1.0, x[0] - x[1]])\n",
    "df = lambda x: np.array([[2*x[0], 2*x[1]], [1, -1]])\n"
   ]
  },
  {
   "cell_type": "code",
   "execution_count": 43,
   "metadata": {},
   "outputs": [
    {
     "data": {
      "text/plain": [
       "array([18.5599617, -6.1900383])"
      ]
     },
     "execution_count": 43,
     "metadata": {},
     "output_type": "execute_result"
    }
   ],
   "source": [
    "globalised_descent_Newton(x0,f,df)"
   ]
  },
  {
   "cell_type": "code",
   "execution_count": null,
   "metadata": {},
   "outputs": [],
   "source": []
  },
  {
   "cell_type": "code",
   "execution_count": 39,
   "metadata": {},
   "outputs": [],
   "source": [
    "def power_method(A:np.ndarray, x0:np.ndarray, max_iter = 100,tol=np.finfo(float).eps):\n",
    "    # Common application to estimate ||A||_inf\n",
    "    x = x0.copy()\n",
    "    x = x/np.linalg.norm(x)\n",
    "    i= 0\n",
    "    err=1.0\n",
    "    while(i<max_iter and err>tol):\n",
    "        x_new = A@x\n",
    "        x_new = x_new/np.linalg.norm(x_new)\n",
    "        err = np.linalg.norm(x_new-x)\n",
    "        eig = np.dot(x_new, A@x_new)\n",
    "        x = x_new\n",
    "        i+=1\n",
    "    return x\n",
    "\n"
   ]
  },
  {
   "cell_type": "code",
   "execution_count": 44,
   "metadata": {},
   "outputs": [],
   "source": [
    "def inverse_iteration(A:np.ndarray, x0:np.ndarray, max_iter = 100, tol = np.finfo(float).eps):\n",
    "    x = x0.copy()\n",
    "    x = x/np.linalg.norm(x)\n",
    "    i =0 \n",
    "    err = 1.0\n",
    "    while(i<max_iter and err>tol):\n",
    "        x_new = np.linalg.solve(A, x)\n",
    "        x_new = x_new/np.linalg.norm(x_new)\n",
    "        eig = np.dot(x_new, A@x_new)\n",
    "        err = np.linalg.norm(x_new-x)     \n",
    "        i+=1\n",
    "    return x"
   ]
  },
  {
   "cell_type": "code",
   "execution_count": null,
   "metadata": {},
   "outputs": [],
   "source": [
    "def inverse_iteration_w_fixed_shift(A:np.ndarray, x0:np.ndarray, shift:float,\n",
    "                               max_iter = 100, tol = np.finfo(float).eps):\n",
    "    x = x0.copy()\n",
    "    x = x/np.linalg.norm(x)\n",
    "    i =0 \n",
    "    err = 1.0\n",
    "    while(i<max_iter and err>tol):\n",
    "        x_new = np.linalg.solve(A-shift*np.eye(len(A)), x)\n",
    "        x_new = x_new/np.linalg.norm(x_new)\n",
    "        eig = np.dot(x_new, A@x_new)\n",
    "        err = np.linalg.norm(x_new-x)     \n",
    "        i+=1\n",
    "    return x"
   ]
  },
  {
   "cell_type": "code",
   "execution_count": null,
   "metadata": {},
   "outputs": [],
   "source": [
    "def inverse_iteration_w_unfixed_shift(A:np.ndarray, x0:np.ndarray, shift:float,\n",
    "                               max_iter = 100, tol = np.finfo(float).eps):\n",
    "    x = x0.copy()\n",
    "    x = x/np.linalg.norm(x)\n",
    "    i =0 \n",
    "    err = 1.0\n",
    "    while(i<max_iter and err>tol):\n",
    "        x_new = np.linalg.solve(A-shift*np.eye(len(A)), x)\n",
    "        x_new = x_new/np.linalg.norm(x_new)\n",
    "        eig = np.dot(x_new, A@x_new)\n",
    "        err = np.linalg.norm(x_new-x)     \n",
    "        i+=1\n",
    "    return x"
   ]
  },
  {
   "cell_type": "code",
   "execution_count": null,
   "metadata": {},
   "outputs": [],
   "source": [
    "def Rayleigh_quotient_iteration():\n",
    "    pass"
   ]
  },
  {
   "cell_type": "code",
   "execution_count": 45,
   "metadata": {},
   "outputs": [],
   "source": [
    "def QR_Rayleigh_Hessenberg(M:np.ndarray, tol=np.finfo(float).eps):\n",
    "    l=0\n",
    "    n = len(A)\n",
    "    A = M.copy()\n",
    "    while err>tol:\n",
    "        mu = A[n,n]\n",
    "        Q,R = np.linalg.qr(A-mu*np.eye(n))\n",
    "        A = R@Q + mu* np.eye(n)\n",
    "        err = np.linalg.norm(A[:n-1, n])\n",
    "    rest = QR_Rayleigh_Hessenberg(M[:n-1, :n-1], tol= tol)\n",
    "    return np.hstack((rest,A[n,n]))\n"
   ]
  },
  {
   "cell_type": "code",
   "execution_count": null,
   "metadata": {},
   "outputs": [],
   "source": []
  },
  {
   "cell_type": "code",
   "execution_count": null,
   "metadata": {},
   "outputs": [],
   "source": [
    "def isSPD(A:np.ndarray):\n",
    "    if not np.allclose(A, A.T):\n",
    "        return False\n",
    "    try:\n",
    "        np.linalg.cholesky(A)\n",
    "        return True\n",
    "    except np.linalg.LinAlgError:\n",
    "        return False\n",
    "\n",
    "\n",
    "def CG(A:np.ndarray, b:np.ndarray, x0:np.ndarray,\n",
    "       max_iter:int, tol:float = np.finfo(float).eps)->np.ndarray:\n",
    "    \n",
    "    if not isSPD(A):\n",
    "        print('Error message. Use GMRES')\n",
    "        return np.ndarray([0])\n",
    "    \n",
    "    x = x0.copy()\n",
    "    r = b-A@x\n",
    "    d = r\n",
    "    err = 1\n",
    "    i =0\n",
    "    while(i<max_iter and err>tol):\n",
    "        alpha = np.dot(r,r)/np.dot(d, A@d)\n",
    "        r_new = r - alpha*A@d\n",
    "        x_new = x + alpha*d\n",
    "        beta = - np.dot(r_new,r_new)/np.dot(r,r)\n",
    "        d = r - beta*d\n",
    "        err = np.linalg.norm(x_new-x)\n"
   ]
  },
  {
   "cell_type": "code",
   "execution_count": null,
   "metadata": {},
   "outputs": [],
   "source": [
    "# def Arnoldi(A:np.ndarray):\n",
    "#     K = A.copy()\n",
    "#     K[:,0] = K[:,0]/np.linalg.norm(K[:,0])\n",
    "#     n,l = K.shape\n",
    "#     h = np.zeros((l+1, l))\n",
    "#     for j in range(l):\n",
    "#         for i in range(j):\n",
    "#             h[i,j] = np.dot(K[:,j].T@A.T, K[:,i])\n",
    "#         w = np.dot()"
   ]
  },
  {
   "cell_type": "code",
   "execution_count": null,
   "metadata": {},
   "outputs": [],
   "source": [
    "def GMRES (A:np.ndarray, b:np.ndarray, x0:np.ndarray,\n",
    "           l:int, tol:float = np.finfo(float).eps)->np.ndarray:\n",
    "    \n",
    "    r = b-A@x0\n",
    "    beta = np.linalg.norm(r)\n",
    "    v = r/beta\n",
    "    h = np.zeros((l+1, l))\n",
    "    for j in range(l):\n",
    "        w = A@v\n",
    "        for i in range(j):\n",
    "            h[i,j] = np.dot(w,v)\n",
    "    "
   ]
  },
  {
   "cell_type": "code",
   "execution_count": null,
   "metadata": {},
   "outputs": [],
   "source": []
  }
 ],
 "metadata": {
  "kernelspec": {
   "display_name": "Python 3",
   "language": "python",
   "name": "python3"
  },
  "language_info": {
   "codemirror_mode": {
    "name": "ipython",
    "version": 3
   },
   "file_extension": ".py",
   "mimetype": "text/x-python",
   "name": "python",
   "nbconvert_exporter": "python",
   "pygments_lexer": "ipython3",
   "version": "3.11.6"
  }
 },
 "nbformat": 4,
 "nbformat_minor": 2
}
