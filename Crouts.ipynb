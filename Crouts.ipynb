{
 "cells": [
  {
   "cell_type": "code",
   "execution_count": 1,
   "metadata": {},
   "outputs": [],
   "source": [
    "import numpy as np"
   ]
  },
  {
   "cell_type": "code",
   "execution_count": 7,
   "metadata": {},
   "outputs": [],
   "source": [
    "def Cholesky(A):\n",
    "    n, m = A.shape\n",
    "    C = np.zeros(A.shape)\n",
    "    for i in range(n):\n",
    "        for k in range(i, n):\n",
    "            summa = 0\n",
    "            for j in range(i):\n",
    "                summa += C[i, j] * C[k, j]\n",
    "\n",
    "            if i == k:\n",
    "                C[i, k] = np.sqrt(A[i, k] - summa)\n",
    "            else:\n",
    "                C[k, i] = (A[k, i] - summa) / C[i, i]\n",
    "\n",
    "    return C\n"
   ]
  },
  {
   "cell_type": "code",
   "execution_count": 2,
   "metadata": {},
   "outputs": [],
   "source": [
    "import numpy as np\n",
    "\n",
    "def lu_decomposition(A):\n",
    "    n = len(A)\n",
    "    L = np.zeros((n, n))\n",
    "    U = np.zeros((n, n))\n",
    "\n",
    "    for i in range(n):\n",
    "        # Upper Triangular Matrix\n",
    "        for k in range(i, n):\n",
    "            sum_val = 0\n",
    "            for j in range(i):\n",
    "                sum_val += L[i, j] * U[j, k]\n",
    "            U[i, k] = A[i, k] - sum_val\n",
    "\n",
    "        # Lower Triangular Matrix\n",
    "        for k in range(i, n):\n",
    "            if i == k:\n",
    "                L[i, i] = 1  # Diagonal elements of L are 1\n",
    "            else:\n",
    "                sum_val = 0\n",
    "                for j in range(i):\n",
    "                    sum_val += L[k, j] * U[j, i]\n",
    "                L[k, i] = (A[k, i] - sum_val) / U[i, i]\n",
    "\n",
    "    return L, U\n",
    "\n"
   ]
  },
  {
   "cell_type": "code",
   "execution_count": 3,
   "metadata": {},
   "outputs": [
    {
     "name": "stdout",
     "output_type": "stream",
     "text": [
      "Generated Positive Definite Matrix:\n",
      "[[2.44384181 2.73459026 1.35013069 1.70650201 2.0733922  1.52308439\n",
      "  2.01164377 1.90387435 2.00724188 1.54702424]\n",
      " [2.73459026 5.55884992 2.49305614 3.42208515 3.32782898 2.92687391\n",
      "  3.75610933 3.16667345 3.63898125 2.53849007]\n",
      " [1.35013069 2.49305614 1.851      2.30698409 1.75819241 1.40413834\n",
      "  2.20168873 1.77182709 2.28699174 1.3931061 ]\n",
      " [1.70650201 3.42208515 2.30698409 3.92034183 2.71323633 2.20127366\n",
      "  3.03859373 2.32396755 3.41051843 2.0898556 ]\n",
      " [2.0733922  3.32782898 1.75819241 2.71323633 3.76927673 2.11598889\n",
      "  2.96522025 2.2503166  3.2856391  2.16243089]\n",
      " [1.52308439 2.92687391 1.40413834 2.20127366 2.11598889 2.31148493\n",
      "  2.32964699 1.72103863 2.25186014 1.69784842]\n",
      " [2.01164377 3.75610933 2.20168873 3.03859373 2.96522025 2.32964699\n",
      "  3.82379523 2.83707377 3.50145601 2.17711135]\n",
      " [1.90387435 3.16667345 1.77182709 2.32396755 2.2503166  1.72103863\n",
      "  2.83707377 2.70309595 2.5032963  1.80415221]\n",
      " [2.00724188 3.63898125 2.28699174 3.41051843 3.2856391  2.25186014\n",
      "  3.50145601 2.5032963  4.46518359 2.09838819]\n",
      " [1.54702424 2.53849007 1.3931061  2.0898556  2.16243089 1.69784842\n",
      "  2.17711135 1.80415221 2.09838819 1.83272936]]\n"
     ]
    }
   ],
   "source": [
    "import numpy as np\n",
    "\n",
    "# Generate a random 10x10 matrix\n",
    "random_matrix = np.random.rand(10, 10)\n",
    "\n",
    "# Create a symmetric matrix\n",
    "symmetric_matrix = np.dot(random_matrix, random_matrix.T)\n",
    "\n",
    "# Ensure the matrix is positive definite\n",
    "positive_definite_matrix = symmetric_matrix + 0.1 * np.eye(10) # Adding a small multiple of identity matrix to ensure positive definiteness\n",
    "\n",
    "print(\"Generated Positive Definite Matrix:\")\n",
    "print(positive_definite_matrix)\n"
   ]
  },
  {
   "cell_type": "code",
   "execution_count": null,
   "metadata": {},
   "outputs": [],
   "source": []
  },
  {
   "cell_type": "code",
   "execution_count": null,
   "metadata": {},
   "outputs": [],
   "source": []
  },
  {
   "cell_type": "code",
   "execution_count": 8,
   "metadata": {},
   "outputs": [
    {
     "data": {
      "text/plain": [
       "array([[ 1.56327919,  0.        ,  0.        ,  0.        ,  0.        ,\n",
       "         0.        ,  0.        ,  0.        ,  0.        ,  0.        ],\n",
       "       [ 1.74926545,  1.58079737,  0.        ,  0.        ,  0.        ,\n",
       "         0.        ,  0.        ,  0.        ,  0.        ,  0.        ],\n",
       "       [ 0.86365296,  0.62139391,  0.84792286,  0.        ,  0.        ,\n",
       "         0.        ,  0.        ,  0.        ,  0.        ,  0.        ],\n",
       "       [ 1.09161692,  0.95683193,  0.90767264,  0.99464435,  0.        ,\n",
       "         0.        ,  0.        ,  0.        ,  0.        ,  0.        ],\n",
       "       [ 1.32630961,  0.63750196,  0.25542578,  0.42586992,  1.16497352,\n",
       "         0.        ,  0.        ,  0.        ,  0.        ,  0.        ],\n",
       "       [ 0.97428815,  0.77339786,  0.09683283,  0.31148817,  0.14880292,\n",
       "         0.79721984,  0.        ,  0.        ,  0.        ,  0.        ],\n",
       "       [ 1.28681031,  0.95213754,  0.58811803,  0.19005343,  0.36083505,\n",
       "         0.21286471,  0.83894702,  0.        ,  0.        ,  0.        ],\n",
       "       [ 1.21787226,  0.65554992,  0.36872857,  0.0327571 ,  0.09355879,\n",
       "        -0.04057989,  0.47384008,  0.6466678 ,  0.        ,  0.        ],\n",
       "       [ 1.2839945 ,  0.88115913,  0.7436044 ,  0.49346056,  0.53292065,\n",
       "         0.01803809,  0.33728805, -0.21245736,  0.89466101,  0.        ],\n",
       "       [ 0.98960202,  0.5107634 ,  0.26069366,  0.28578059,  0.28842399,\n",
       "         0.22765146,  0.0681802 ,  0.16789588, -0.1143816 ,  0.51183191]])"
      ]
     },
     "execution_count": 8,
     "metadata": {},
     "output_type": "execute_result"
    }
   ],
   "source": [
    "Cholesky(positive_definite_matrix)"
   ]
  },
  {
   "cell_type": "code",
   "execution_count": 6,
   "metadata": {},
   "outputs": [
    {
     "data": {
      "text/plain": [
       "array([[ 1.56327919,  0.        ,  0.        ,  0.        ,  0.        ,\n",
       "         0.        ,  0.        ,  0.        ,  0.        ,  0.        ],\n",
       "       [ 1.74926545,  1.58079737,  0.        ,  0.        ,  0.        ,\n",
       "         0.        ,  0.        ,  0.        ,  0.        ,  0.        ],\n",
       "       [ 0.86365296,  0.62139391,  0.84792286,  0.        ,  0.        ,\n",
       "         0.        ,  0.        ,  0.        ,  0.        ,  0.        ],\n",
       "       [ 1.09161692,  0.95683193,  0.90767264,  0.99464435,  0.        ,\n",
       "         0.        ,  0.        ,  0.        ,  0.        ,  0.        ],\n",
       "       [ 1.32630961,  0.63750196,  0.25542578,  0.42586992,  1.16497352,\n",
       "         0.        ,  0.        ,  0.        ,  0.        ,  0.        ],\n",
       "       [ 0.97428815,  0.77339786,  0.09683283,  0.31148817,  0.14880292,\n",
       "         0.79721984,  0.        ,  0.        ,  0.        ,  0.        ],\n",
       "       [ 1.28681031,  0.95213754,  0.58811803,  0.19005343,  0.36083505,\n",
       "         0.21286471,  0.83894702,  0.        ,  0.        ,  0.        ],\n",
       "       [ 1.21787226,  0.65554992,  0.36872857,  0.0327571 ,  0.09355879,\n",
       "        -0.04057989,  0.47384008,  0.6466678 ,  0.        ,  0.        ],\n",
       "       [ 1.2839945 ,  0.88115913,  0.7436044 ,  0.49346056,  0.53292065,\n",
       "         0.01803809,  0.33728805, -0.21245736,  0.89466101,  0.        ],\n",
       "       [ 0.98960202,  0.5107634 ,  0.26069366,  0.28578059,  0.28842399,\n",
       "         0.22765146,  0.0681802 ,  0.16789588, -0.1143816 ,  0.51183191]])"
      ]
     },
     "execution_count": 6,
     "metadata": {},
     "output_type": "execute_result"
    }
   ],
   "source": [
    "np.linalg.cholesky(positive_definite_matrix)"
   ]
  },
  {
   "cell_type": "code",
   "execution_count": null,
   "metadata": {},
   "outputs": [],
   "source": []
  }
 ],
 "metadata": {
  "kernelspec": {
   "display_name": "Python 3",
   "language": "python",
   "name": "python3"
  },
  "language_info": {
   "codemirror_mode": {
    "name": "ipython",
    "version": 3
   },
   "file_extension": ".py",
   "mimetype": "text/x-python",
   "name": "python",
   "nbconvert_exporter": "python",
   "pygments_lexer": "ipython3",
   "version": "3.11.6"
  }
 },
 "nbformat": 4,
 "nbformat_minor": 2
}
