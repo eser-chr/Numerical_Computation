{
 "cells": [
  {
   "cell_type": "code",
   "execution_count": 35,
   "metadata": {},
   "outputs": [],
   "source": [
    "import numpy as np\n",
    "import matplotlib.pyplot as plt"
   ]
  },
  {
   "cell_type": "code",
   "execution_count": 36,
   "metadata": {},
   "outputs": [],
   "source": [
    "# calculating the series\n",
    "def S_series(N):\n",
    "    s = 0\n",
    "    for i in range(1, N):\n",
    "        s+=1/i\n",
    "    return s\n",
    "\n",
    "# compute the value of S by the approximative function\n",
    "def S_function(N, a_0, a_1, a_2):\n",
    "    return np.log(N) + a_0 + a_1/N + a_2/(N**2)\n",
    "\n",
    "# Auxilary function to help build the linear system. It returns the coefficients of the above function as a vector \n",
    "def S_coeff(N):\n",
    "    return np.array([np.log(N), 1, 1/N, 1/(N**2)])\n",
    "\n"
   ]
  },
  {
   "cell_type": "code",
   "execution_count": 37,
   "metadata": {},
   "outputs": [],
   "source": [
    "# Build the linear system\n",
    "def lin_system(evaluation_vals):\n",
    "\n",
    "    n = len(evaluation_vals)\n",
    "    matrix = np.zeros((n,n))\n",
    "    res = np.zeros(n)\n",
    "    \n",
    "    for i in range(n):\n",
    "        temp = S_coeff(evaluation_vals[i])\n",
    "        res[i]=S_series(evaluation_vals[i])-temp[0]\n",
    "        matrix[i, :] = temp[1:]\n",
    "    \n",
    "    return matrix, res"
   ]
  },
  {
   "cell_type": "code",
   "execution_count": 38,
   "metadata": {},
   "outputs": [],
   "source": [
    "A,B = lin_system([10,100,1000])"
   ]
  },
  {
   "cell_type": "code",
   "execution_count": 39,
   "metadata": {},
   "outputs": [],
   "source": [
    "a = np.linalg.solve(A,B)"
   ]
  },
  {
   "cell_type": "code",
   "execution_count": 34,
   "metadata": {},
   "outputs": [
    {
     "data": {
      "text/plain": [
       "9.203109385680364e-10"
      ]
     },
     "execution_count": 34,
     "metadata": {},
     "output_type": "execute_result"
    }
   ],
   "source": [
    "#Error for N = e6, e8\n",
    "\n",
    "abs(S_function(1e6, *a)-S_series(int(1e6)))"
   ]
  },
  {
   "cell_type": "code",
   "execution_count": 33,
   "metadata": {},
   "outputs": [
    {
     "data": {
      "text/plain": [
       "9.219256469350512e-10"
      ]
     },
     "execution_count": 33,
     "metadata": {},
     "output_type": "execute_result"
    }
   ],
   "source": [
    "abs(S_function(1e8, *a)-S_series(int(1e8)))"
   ]
  },
  {
   "cell_type": "markdown",
   "metadata": {},
   "source": [
    "# Runtime evaluation. No memoization or multiprocessing."
   ]
  },
  {
   "cell_type": "code",
   "execution_count": 17,
   "metadata": {},
   "outputs": [],
   "source": [
    "from time import time"
   ]
  },
  {
   "cell_type": "code",
   "execution_count": 18,
   "metadata": {},
   "outputs": [],
   "source": [
    "def timer(func):\n",
    "    \n",
    "    def wrapper(*args, **kwargs):\n",
    "        start = time()\n",
    "        res = func(*args, **kwargs)\n",
    "        end = time()\n",
    "        print(end-start)\n",
    "        return res\n",
    "\n",
    "    return wrapper"
   ]
  },
  {
   "cell_type": "code",
   "execution_count": 24,
   "metadata": {},
   "outputs": [
    {
     "name": "stdout",
     "output_type": "stream",
     "text": [
      "2.8778560161590576\n"
     ]
    }
   ],
   "source": [
    "A = timer(S_series)(int(1e8))"
   ]
  },
  {
   "cell_type": "code",
   "execution_count": 25,
   "metadata": {},
   "outputs": [
    {
     "name": "stdout",
     "output_type": "stream",
     "text": [
      "28.603534936904907\n"
     ]
    }
   ],
   "source": [
    "A = timer(S_series)(int(1e9))"
   ]
  },
  {
   "cell_type": "markdown",
   "metadata": {},
   "source": [
    "10 times more. wow unexpected!"
   ]
  }
 ],
 "metadata": {
  "kernelspec": {
   "display_name": "Python 3",
   "language": "python",
   "name": "python3"
  },
  "language_info": {
   "codemirror_mode": {
    "name": "ipython",
    "version": 3
   },
   "file_extension": ".py",
   "mimetype": "text/x-python",
   "name": "python",
   "nbconvert_exporter": "python",
   "pygments_lexer": "ipython3",
   "version": "3.11.6"
  }
 },
 "nbformat": 4,
 "nbformat_minor": 2
}
