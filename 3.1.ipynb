{
 "cells": [
  {
   "cell_type": "markdown",
   "metadata": {},
   "source": [
    "$f(h)= Ch^{\\alpha} \\Rightarrow \\log{f} = \\alpha \\log{h} + \\log{C}$\n",
    "\n",
    "In log log we plot $\\log{f}$ vs $\\log{h}$\n",
    "\n",
    "The slope is $\\alpha$ and the intersection is $\\log{C}$.\n",
    "\n",
    "## Semilogy for $N \\rightarrow Ce^{-bN}$\n"
   ]
  },
  {
   "cell_type": "markdown",
   "metadata": {},
   "source": [
    "In general I would try to transform so that at the end I will have a straight line or a polynomial."
   ]
  }
 ],
 "metadata": {
  "kernelspec": {
   "display_name": "Python 3",
   "language": "python",
   "name": "python3"
  },
  "language_info": {
   "codemirror_mode": {
    "name": "ipython",
    "version": 3
   },
   "file_extension": ".py",
   "mimetype": "text/x-python",
   "name": "python",
   "nbconvert_exporter": "python",
   "pygments_lexer": "ipython3",
   "version": "3.11.6"
  }
 },
 "nbformat": 4,
 "nbformat_minor": 2
}
