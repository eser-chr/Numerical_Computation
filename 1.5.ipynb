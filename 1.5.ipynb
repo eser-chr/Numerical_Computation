{
 "cells": [
  {
   "cell_type": "code",
   "execution_count": 8,
   "metadata": {},
   "outputs": [],
   "source": [
    "import numpy as np\n",
    "import matplotlib.pyplot as plt\n"
   ]
  },
  {
   "cell_type": "code",
   "execution_count": 3,
   "metadata": {},
   "outputs": [],
   "source": [
    "def f(x):\n",
    "    return (x**2)/(1+x**2)"
   ]
  },
  {
   "cell_type": "code",
   "execution_count": 50,
   "metadata": {},
   "outputs": [],
   "source": [
    "knots = np.array([0,1,2,3])\n",
    "values = f(knots)"
   ]
  },
  {
   "cell_type": "code",
   "execution_count": 35,
   "metadata": {},
   "outputs": [
    {
     "data": {
      "text/plain": [
       "array([0. , 0.5, 0.8])"
      ]
     },
     "execution_count": 35,
     "metadata": {},
     "output_type": "execute_result"
    }
   ],
   "source": [
    "values"
   ]
  },
  {
   "cell_type": "code",
   "execution_count": 9,
   "metadata": {},
   "outputs": [],
   "source": [
    "\n",
    "def divided(knots, values):\n",
    "    if len(knots)==1:\n",
    "        return values[0]\n",
    "    else:\n",
    "        return (divided(knots[1:], values[1:]) - divided(knots[:-1], values[:-1]) )/ (knots[-1]-knots[0])\n"
   ]
  },
  {
   "cell_type": "code",
   "execution_count": 44,
   "metadata": {},
   "outputs": [],
   "source": [
    "\n",
    "def divided (knots, values):\n",
    "    matrix = np.zeros((len(knots), len(knots)))\n",
    "    for i in range(len(knots)):\n",
    "        matrix[i,0]=values[i]\n",
    "    \n",
    "    for j in range(1,len(knots)):\n",
    "        for i in range(len(knots)-j):\n",
    "                \n",
    "            matrix[i,j] = (matrix[i+1,j-1]-matrix[i,j-1])/(knots[i+j]-knots[i])\n",
    "    return matrix"
   ]
  },
  {
   "cell_type": "code",
   "execution_count": 45,
   "metadata": {},
   "outputs": [],
   "source": [
    "def p_q(knots, values):\n",
    "    matrix_divided = divided(knots, values)\n",
    "    def pol(x):\n",
    "        return matrix_divided[0,0]+matrix_divided[0,1]*(x-knots[0])+\\\n",
    "            matrix_divided[0,2]*(x-knots[0])*(x-knots[1])\n",
    "    return pol\n",
    "\n",
    "def p_c(knots, values):\n",
    "    matrix_divided = divided(knots, values)\n",
    "    def pol(x):\n",
    "        return matrix_divided[0,0]+matrix_divided[0,1]*(x-knots[0])+\\\n",
    "            matrix_divided[0,2]*(x-knots[0])*(x-knots[1]) +\\\n",
    "            matrix_divided[0,3]*(x-knots[0])*(x-knots[1])*(x-knots[2])\n",
    "    return pol\n"
   ]
  },
  {
   "cell_type": "code",
   "execution_count": 62,
   "metadata": {},
   "outputs": [
    {
     "data": {
      "text/plain": [
       "array([[ 0.00000000e+00,  5.00000000e-01, -1.00000000e-01,\n",
       "        -1.85037171e-17],\n",
       "       [ 5.00000000e-01,  3.00000000e-01, -1.00000000e-01,\n",
       "         0.00000000e+00],\n",
       "       [ 8.00000000e-01,  1.00000000e-01,  0.00000000e+00,\n",
       "         0.00000000e+00],\n",
       "       [ 9.00000000e-01,  0.00000000e+00,  0.00000000e+00,\n",
       "         0.00000000e+00]])"
      ]
     },
     "execution_count": 62,
     "metadata": {},
     "output_type": "execute_result"
    }
   ],
   "source": [
    "divided (knots, values)"
   ]
  },
  {
   "cell_type": "code",
   "execution_count": 51,
   "metadata": {},
   "outputs": [],
   "source": [
    "newton_quad = p_q(knots[:-1],values[:-1])\n",
    "newton_cubic = p_c(knots,values)"
   ]
  },
  {
   "cell_type": "code",
   "execution_count": 53,
   "metadata": {},
   "outputs": [
    {
     "data": {
      "text/plain": [
       "0.9"
      ]
     },
     "execution_count": 53,
     "metadata": {},
     "output_type": "execute_result"
    }
   ],
   "source": [
    "newton_cubic(3)"
   ]
  },
  {
   "cell_type": "code",
   "execution_count": 74,
   "metadata": {},
   "outputs": [
    {
     "data": {
      "text/plain": [
       "[<matplotlib.lines.Line2D at 0x1424ef090>]"
      ]
     },
     "execution_count": 74,
     "metadata": {},
     "output_type": "execute_result"
    },
    {
     "data": {
      "image/png": "[encoded data removed]",
      "text/plain": [
       "<Figure size 640x480 with 1 Axes>"
      ]
     },
     "metadata": {},
     "output_type": "display_data"
    }
   ],
   "source": [
    "x = np.linspace(0,3)\n",
    "y = newton_cubic(x)\n",
    "z = newton_quad(x)\n",
    "\n",
    "\n",
    "plt.plot(x,y)\n",
    "plt.plot(x,z)\n",
    "plt.plot(x,x**2/(x**2+1))"
   ]
  },
  {
   "cell_type": "code",
   "execution_count": 77,
   "metadata": {},
   "outputs": [],
   "source": [
    "def box(N,func):\n",
    "    x = np.linspace(0,3,N+1)\n",
    "    y = func(x)\n",
    "    intermezzo = y[:N].sum()\n",
    "    return intermezzo/N"
   ]
  },
  {
   "cell_type": "code",
   "execution_count": 84,
   "metadata": {},
   "outputs": [
    {
     "data": {
      "text/plain": [
       "-0.028032211721413125"
      ]
     },
     "execution_count": 84,
     "metadata": {},
     "output_type": "execute_result"
    }
   ],
   "source": [
    "1-box(1000, newton_quad)/box(1000, f)"
   ]
  },
  {
   "cell_type": "code",
   "execution_count": null,
   "metadata": {},
   "outputs": [],
   "source": []
  }
 ],
 "metadata": {
  "kernelspec": {
   "display_name": "Python 3",
   "language": "python",
   "name": "python3"
  },
  "language_info": {
   "codemirror_mode": {
    "name": "ipython",
    "version": 3
   },
   "file_extension": ".py",
   "mimetype": "text/x-python",
   "name": "python",
   "nbconvert_exporter": "python",
   "pygments_lexer": "ipython3",
   "version": "3.11.6"
  }
 },
 "nbformat": 4,
 "nbformat_minor": 2
}
