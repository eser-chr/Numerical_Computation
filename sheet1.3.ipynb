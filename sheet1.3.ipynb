{
 "cells": [
  {
   "cell_type": "code",
   "execution_count": 7,
   "metadata": {},
   "outputs": [],
   "source": [
    "from numba import njit\n",
    "import numpy as np\n",
    "import matplotlib.pyplot as plt\n"
   ]
  },
  {
   "cell_type": "code",
   "execution_count": 5,
   "metadata": {},
   "outputs": [],
   "source": [
    "class Point:\n",
    "    def __init__(self, x, y):\n",
    "        self.kx = x\n",
    "        self.ky = y\n",
    "\n",
    "    @property\n",
    "    def x(self):\n",
    "        return self.kx\n",
    "    \n",
    "    @property\n",
    "    def y(self):\n",
    "        return self.ky"
   ]
  },
  {
   "cell_type": "code",
   "execution_count": 6,
   "metadata": {},
   "outputs": [],
   "source": [
    "points=[(0,0),(1,2),(4,8)]\n",
    "points=[Point(0,0), Point(1,2), Point(4,8)]"
   ]
  },
  {
   "cell_type": "code",
   "execution_count": 11,
   "metadata": {},
   "outputs": [],
   "source": [
    "# def monomer_k(x,xj,xk):\n",
    "#     return (x-xk)/(xj-xk)\n",
    "\n",
    "\n",
    "def li(j, points):\n",
    "    xj=points[j][0]\n",
    "    def monomer_k(x,xj,xk):\n",
    "        if xj==xk:\n",
    "            return 1\n",
    "        else:\n",
    "            return (x-xk)/(xj-xk)\n",
    "    \n",
    "    monomers=[]\n",
    " \n",
    "    for i in range(0,points):\n",
    "        monomers.append(lambda x: monomer_k(x,xj, points[0][0]))\n",
    "            \n",
    "    return func\n",
    "\n",
    "# def p(x):\n",
    "#     monomers=[]\n",
    "#     def li(x):\n",
    "#         for point in points:\n",
    "#             x\n",
    "        \n"
   ]
  },
  {
   "cell_type": "code",
   "execution_count": 12,
   "metadata": {},
   "outputs": [
    {
     "ename": "NameError",
     "evalue": "name 'x' is not defined",
     "output_type": "error",
     "traceback": [
      "\u001b[0;31m---------------------------------------------------------------------------\u001b[0m",
      "\u001b[0;31mNameError\u001b[0m                                 Traceback (most recent call last)",
      "\u001b[1;32m/Users/chriseser/Desktop/NUMERICAL/sheet1.3.ipynb Cell 4\u001b[0m line \u001b[0;36m1\n\u001b[0;32m----> <a href='vscode-notebook-cell:/Users/chriseser/Desktop/NUMERICAL/sheet1.3.ipynb#W3sZmlsZQ%3D%3D?line=0'>1</a>\u001b[0m li_j\u001b[39m=\u001b[39mli(\u001b[39m0\u001b[39;49m,points)\n",
      "\u001b[1;32m/Users/chriseser/Desktop/NUMERICAL/sheet1.3.ipynb Cell 4\u001b[0m line \u001b[0;36m1\n\u001b[1;32m     <a href='vscode-notebook-cell:/Users/chriseser/Desktop/NUMERICAL/sheet1.3.ipynb#W3sZmlsZQ%3D%3D?line=9'>10</a>\u001b[0m     \u001b[39melse\u001b[39;00m:\n\u001b[1;32m     <a href='vscode-notebook-cell:/Users/chriseser/Desktop/NUMERICAL/sheet1.3.ipynb#W3sZmlsZQ%3D%3D?line=10'>11</a>\u001b[0m         \u001b[39mreturn\u001b[39;00m (x\u001b[39m-\u001b[39mxk)\u001b[39m/\u001b[39m(xj\u001b[39m-\u001b[39mxk)\n\u001b[0;32m---> <a href='vscode-notebook-cell:/Users/chriseser/Desktop/NUMERICAL/sheet1.3.ipynb#W3sZmlsZQ%3D%3D?line=12'>13</a>\u001b[0m func\u001b[39m=\u001b[39mmonomer_k(x,xj, points[\u001b[39m0\u001b[39m][\u001b[39m0\u001b[39m])\n\u001b[1;32m     <a href='vscode-notebook-cell:/Users/chriseser/Desktop/NUMERICAL/sheet1.3.ipynb#W3sZmlsZQ%3D%3D?line=13'>14</a>\u001b[0m \u001b[39mfor\u001b[39;00m i \u001b[39min\u001b[39;00m \u001b[39mrange\u001b[39m(\u001b[39m1\u001b[39m,points):\n\u001b[1;32m     <a href='vscode-notebook-cell:/Users/chriseser/Desktop/NUMERICAL/sheet1.3.ipynb#W3sZmlsZQ%3D%3D?line=14'>15</a>\u001b[0m     func\u001b[39m=\u001b[39mfunc\u001b[39m*\u001b[39mmonomer_k(x,j,points[i][\u001b[39m0\u001b[39m])\n",
      "\u001b[0;31mNameError\u001b[0m: name 'x' is not defined"
     ]
    }
   ],
   "source": [
    "li_j=li(0,points)\n"
   ]
  },
  {
   "cell_type": "code",
   "execution_count": 13,
   "metadata": {},
   "outputs": [],
   "source": [
    "def gen(k):\n",
    "    def s(x):\n",
    "        return k*x\n",
    "    return s"
   ]
  },
  {
   "cell_type": "code",
   "execution_count": 14,
   "metadata": {},
   "outputs": [],
   "source": [
    "lin=gen(1)\n",
    "square = gen(2)"
   ]
  },
  {
   "cell_type": "code",
   "execution_count": 15,
   "metadata": {},
   "outputs": [],
   "source": [
    "funcs=[lin,square]"
   ]
  },
  {
   "cell_type": "code",
   "execution_count": 28,
   "metadata": {},
   "outputs": [],
   "source": [
    "def pol(x):\n",
    "    mul=1\n",
    "    for func in funcs:\n",
    "        mul*=func(x)\n",
    "    return mul\n"
   ]
  },
  {
   "cell_type": "code",
   "execution_count": 30,
   "metadata": {},
   "outputs": [
    {
     "data": {
      "text/plain": [
       "2"
      ]
     },
     "execution_count": 30,
     "metadata": {},
     "output_type": "execute_result"
    }
   ],
   "source": [
    "pol(1)"
   ]
  },
  {
   "cell_type": "code",
   "execution_count": 25,
   "metadata": {},
   "outputs": [
    {
     "data": {
      "text/plain": [
       "7"
      ]
     },
     "execution_count": 25,
     "metadata": {},
     "output_type": "execute_result"
    }
   ],
   "source": [
    "lin(7)"
   ]
  },
  {
   "cell_type": "code",
   "execution_count": 31,
   "metadata": {},
   "outputs": [],
   "source": [
    "# (b)\n",
    "\n",
    "def pol(a0, a1, a2):\n",
    "    return np.poly1d([a2,a1,a0])\n",
    "\n"
   ]
  },
  {
   "cell_type": "code",
   "execution_count": 32,
   "metadata": {},
   "outputs": [
    {
     "data": {
      "text/plain": [
       "34"
      ]
     },
     "execution_count": 32,
     "metadata": {},
     "output_type": "execute_result"
    }
   ],
   "source": []
  },
  {
   "cell_type": "code",
   "execution_count": 8,
   "metadata": {},
   "outputs": [],
   "source": [
    "\n"
   ]
  },
  {
   "cell_type": "code",
   "execution_count": 55,
   "metadata": {},
   "outputs": [],
   "source": [
    "class Interpolation:\n",
    "    def __init__(self, points):\n",
    "        self.points= points\n",
    "        self.n = len(self.points)\n",
    "        self.f_matrix=[]\n",
    "        self.func_matrix()\n",
    "\n",
    "\n",
    "    def func_matrix(self):\n",
    "        self.f_matrix=[[] for i in self.points]\n",
    "        def const(x, a):\n",
    "            return a\n",
    "        self.f_matrix[0]=[lambda x:const(x,point.y) for point in self.points]\n",
    "\n",
    "    def nevile_generator(self,j,m):\n",
    "        def p_jm(x):\n",
    "            return ((x-self.points[j].x)*self.f_matrix[j+1][m-1](x) -\\\n",
    "                     (x-points[j+m].x)*self.f_matrix[j][m-1](x))\\\n",
    "                /(points[j+m].x - points[j].x)\n",
    "    \n",
    "        self.f_matrix[j].append(p_jm)\n",
    "\n",
    "    def execute(self):\n",
    "        print('Start')\n",
    "        for j in range(1,self.n):\n",
    "            print(j)\n",
    "            for m in range(self.n-j):\n",
    "                print (m)\n",
    "                self.nevile_generator(j,m)\n"
   ]
  },
  {
   "cell_type": "code",
   "execution_count": 69,
   "metadata": {},
   "outputs": [],
   "source": [
    "i = Interpolation(points)"
   ]
  },
  {
   "cell_type": "code",
   "execution_count": 57,
   "metadata": {},
   "outputs": [
    {
     "data": {
      "text/plain": [
       "8"
      ]
     },
     "execution_count": 57,
     "metadata": {},
     "output_type": "execute_result"
    }
   ],
   "source": [
    "i.f_matrix[0][0](4)"
   ]
  },
  {
   "cell_type": "code",
   "execution_count": 58,
   "metadata": {},
   "outputs": [
    {
     "name": "stdout",
     "output_type": "stream",
     "text": [
      "Start\n",
      "1\n",
      "0\n",
      "1\n",
      "2\n",
      "0\n"
     ]
    }
   ],
   "source": [
    "i.execute()"
   ]
  },
  {
   "cell_type": "code",
   "execution_count": 59,
   "metadata": {},
   "outputs": [
    {
     "data": {
      "text/plain": [
       "[[<function __main__.Interpolation.func_matrix.<locals>.<listcomp>.<lambda>(x)>,\n",
       "  <function __main__.Interpolation.func_matrix.<locals>.<listcomp>.<lambda>(x)>,\n",
       "  <function __main__.Interpolation.func_matrix.<locals>.<listcomp>.<lambda>(x)>],\n",
       " [<function __main__.Interpolation.nevile_generator.<locals>.p_jm(x)>,\n",
       "  <function __main__.Interpolation.nevile_generator.<locals>.p_jm(x)>],\n",
       " [<function __main__.Interpolation.nevile_generator.<locals>.p_jm(x)>]]"
      ]
     },
     "execution_count": 59,
     "metadata": {},
     "output_type": "execute_result"
    }
   ],
   "source": [
    "i.f_matrix"
   ]
  },
  {
   "cell_type": "code",
   "execution_count": 71,
   "metadata": {},
   "outputs": [
    {
     "data": {
      "text/plain": [
       "8"
      ]
     },
     "execution_count": 71,
     "metadata": {},
     "output_type": "execute_result"
    }
   ],
   "source": [
    "i.f_matrix[0][1](0)"
   ]
  },
  {
   "cell_type": "code",
   "execution_count": 75,
   "metadata": {},
   "outputs": [],
   "source": [
    "def const(x, a):\n",
    "            return a"
   ]
  },
  {
   "cell_type": "code",
   "execution_count": 94,
   "metadata": {},
   "outputs": [],
   "source": [
    "b = [point.y for point in points]"
   ]
  },
  {
   "cell_type": "code",
   "execution_count": 95,
   "metadata": {},
   "outputs": [],
   "source": [
    "A = [(lambda x: const(x,i)) for i in b]"
   ]
  },
  {
   "cell_type": "code",
   "execution_count": 83,
   "metadata": {},
   "outputs": [],
   "source": [
    "f = lambda x: const(x,4)"
   ]
  },
  {
   "cell_type": "code",
   "execution_count": 84,
   "metadata": {},
   "outputs": [
    {
     "data": {
      "text/plain": [
       "4"
      ]
     },
     "execution_count": 84,
     "metadata": {},
     "output_type": "execute_result"
    }
   ],
   "source": [
    "f(0)"
   ]
  },
  {
   "cell_type": "code",
   "execution_count": 107,
   "metadata": {},
   "outputs": [
    {
     "name": "stdout",
     "output_type": "stream",
     "text": [
      "0 []\n",
      "0\n",
      "2 [<function func at 0x13f979d00>]\n",
      "2\n",
      "8 [<function func at 0x13f979d00>, <function func at 0x13f979c60>]\n",
      "8\n"
     ]
    }
   ],
   "source": [
    "A = []\n",
    "for i in b:\n",
    "    print(i, A)\n",
    "    def func(x):\n",
    "        return const(x, i)\n",
    "    print(func(0))\n",
    "    A.append(func)"
   ]
  },
  {
   "cell_type": "code",
   "execution_count": 108,
   "metadata": {},
   "outputs": [
    {
     "name": "stdout",
     "output_type": "stream",
     "text": [
      "8\n",
      "8\n",
      "8\n"
     ]
    }
   ],
   "source": [
    "for f in A:\n",
    "    print(f(0))"
   ]
  },
  {
   "cell_type": "code",
   "execution_count": 104,
   "metadata": {},
   "outputs": [
    {
     "name": "stdout",
     "output_type": "stream",
     "text": [
      "<function <lambda> at 0x13f97a5c0>\n"
     ]
    }
   ],
   "source": [
    "print(A[2])"
   ]
  },
  {
   "cell_type": "code",
   "execution_count": null,
   "metadata": {},
   "outputs": [],
   "source": []
  }
 ],
 "metadata": {
  "kernelspec": {
   "display_name": "Python 3",
   "language": "python",
   "name": "python3"
  },
  "language_info": {
   "codemirror_mode": {
    "name": "ipython",
    "version": 3
   },
   "file_extension": ".py",
   "mimetype": "text/x-python",
   "name": "python",
   "nbconvert_exporter": "python",
   "pygments_lexer": "ipython3",
   "version": "3.11.6"
  }
 },
 "nbformat": 4,
 "nbformat_minor": 2
}
