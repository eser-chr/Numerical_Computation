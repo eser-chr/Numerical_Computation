{
 "cells": [
  {
   "cell_type": "code",
   "execution_count": 1,
   "metadata": {},
   "outputs": [
    {
     "ename": "VideoUnavailable",
     "evalue": "blowjob-dee is unavailable",
     "output_type": "error",
     "traceback": [
      "\u001b[0;31m---------------------------------------------------------------------------\u001b[0m",
      "\u001b[0;31mVideoUnavailable\u001b[0m                          Traceback (most recent call last)",
      "\u001b[1;32m/Users/chriseser/Desktop/MASTER/NUMERICAL/youtube.ipynb Cell 1\u001b[0m line \u001b[0;36m5\n\u001b[1;32m      <a href='vscode-notebook-cell:/Users/chriseser/Desktop/MASTER/NUMERICAL/youtube.ipynb#W0sZmlsZQ%3D%3D?line=0'>1</a>\u001b[0m \u001b[39mfrom\u001b[39;00m \u001b[39mpytube\u001b[39;00m \u001b[39mimport\u001b[39;00m YouTube\n\u001b[1;32m      <a href='vscode-notebook-cell:/Users/chriseser/Desktop/MASTER/NUMERICAL/youtube.ipynb#W0sZmlsZQ%3D%3D?line=2'>3</a>\u001b[0m yt \u001b[39m=\u001b[39m YouTube(\u001b[39m\"\u001b[39m\u001b[39mhttps://www.youporn.com/watch/16936248/blowjob-deepthroat-sloppy-cum-mouth-luxurymur/\u001b[39m\u001b[39m\"\u001b[39m)\n\u001b[0;32m----> <a href='vscode-notebook-cell:/Users/chriseser/Desktop/MASTER/NUMERICAL/youtube.ipynb#W0sZmlsZQ%3D%3D?line=4'>5</a>\u001b[0m video \u001b[39m=\u001b[39m yt\u001b[39m.\u001b[39;49mstreams\u001b[39m.\u001b[39mfilter(only_audio\u001b[39m=\u001b[39m\u001b[39mFalse\u001b[39;00m)\n",
      "File \u001b[0;32m/opt/homebrew/lib/python3.11/site-packages/pytube/__main__.py:295\u001b[0m, in \u001b[0;36mYouTube.streams\u001b[0;34m(self)\u001b[0m\n\u001b[1;32m    289\u001b[0m \u001b[39m@property\u001b[39m\n\u001b[1;32m    290\u001b[0m \u001b[39mdef\u001b[39;00m \u001b[39mstreams\u001b[39m(\u001b[39mself\u001b[39m) \u001b[39m-\u001b[39m\u001b[39m>\u001b[39m StreamQuery:\n\u001b[1;32m    291\u001b[0m \u001b[39m    \u001b[39m\u001b[39m\"\"\"Interface to query both adaptive (DASH) and progressive streams.\u001b[39;00m\n\u001b[1;32m    292\u001b[0m \n\u001b[1;32m    293\u001b[0m \u001b[39m    :rtype: :class:`StreamQuery <StreamQuery>`.\u001b[39;00m\n\u001b[1;32m    294\u001b[0m \u001b[39m    \"\"\"\u001b[39;00m\n\u001b[0;32m--> 295\u001b[0m     \u001b[39mself\u001b[39;49m\u001b[39m.\u001b[39;49mcheck_availability()\n\u001b[1;32m    296\u001b[0m     \u001b[39mreturn\u001b[39;00m StreamQuery(\u001b[39mself\u001b[39m\u001b[39m.\u001b[39mfmt_streams)\n",
      "File \u001b[0;32m/opt/homebrew/lib/python3.11/site-packages/pytube/__main__.py:231\u001b[0m, in \u001b[0;36mYouTube.check_availability\u001b[0;34m(self)\u001b[0m\n\u001b[1;32m    229\u001b[0m \u001b[39melif\u001b[39;00m status \u001b[39m==\u001b[39m \u001b[39m'\u001b[39m\u001b[39mERROR\u001b[39m\u001b[39m'\u001b[39m:\n\u001b[1;32m    230\u001b[0m     \u001b[39mif\u001b[39;00m reason \u001b[39m==\u001b[39m \u001b[39m'\u001b[39m\u001b[39mVideo unavailable\u001b[39m\u001b[39m'\u001b[39m:\n\u001b[0;32m--> 231\u001b[0m         \u001b[39mraise\u001b[39;00m exceptions\u001b[39m.\u001b[39mVideoUnavailable(video_id\u001b[39m=\u001b[39m\u001b[39mself\u001b[39m\u001b[39m.\u001b[39mvideo_id)\n\u001b[1;32m    232\u001b[0m \u001b[39melif\u001b[39;00m status \u001b[39m==\u001b[39m \u001b[39m'\u001b[39m\u001b[39mLIVE_STREAM\u001b[39m\u001b[39m'\u001b[39m:\n\u001b[1;32m    233\u001b[0m     \u001b[39mraise\u001b[39;00m exceptions\u001b[39m.\u001b[39mLiveStreamError(video_id\u001b[39m=\u001b[39m\u001b[39mself\u001b[39m\u001b[39m.\u001b[39mvideo_id)\n",
      "\u001b[0;31mVideoUnavailable\u001b[0m: blowjob-dee is unavailable"
     ]
    }
   ],
   "source": [
    "from pytube import YouTube\n",
    "\n",
    "yt = YouTube(\"https://www.youporn.com/watch/16936248/blowjob-deepthroat-sloppy-cum-mouth-luxurymur/\")\n",
    "\n",
    "video = yt.streams.filter(only_audio=False)"
   ]
  },
  {
   "cell_type": "code",
   "execution_count": 2,
   "metadata": {},
   "outputs": [],
   "source": [
    "yt = YouTube(\"https://www.youporn.com/watch/16936248/blowjob-deepthroat-sloppy-cum-mouth-luxurymur/\")"
   ]
  },
  {
   "cell_type": "code",
   "execution_count": 4,
   "metadata": {},
   "outputs": [
    {
     "data": {
      "text/plain": [
       "{'responseContext': {'visitorData': 'CgtMSXpIRl9ZY2pqZyi45KCsBjIKCgJHUhIEEgAgQw%3D%3D',\n",
       "  'serviceTrackingParams': [{'service': 'GFEEDBACK',\n",
       "    'params': [{'key': 'is_viewed_live', 'value': 'False'},\n",
       "     {'key': 'logged_in', 'value': '0'},\n",
       "     {'key': 'e',\n",
       "      'value': '23946420,23966208,23983296,23998056,24004644,24007246,24034168,24036948,24077241,24078649,24080738,24120820,24135310,24140247,24181174,24187377,24241378,24255543,24255545,24265964,24285788,24288664,24290971,24367579,24377598,24377909,24382552,24385728,24390675,24407446,24428788,24428941,24428945,24451319,24457856,24458317,24458324,24458329,24458839,24468724,24469241,24485421,24506784,24515423,24518452,24524098,24526644,24526770,24526787,24526794,24526801,24526804,24526813,24526823,24528548,24528555,24528573,24528584,24528644,24528651,24528657,24528666,24537200,24537905,24542367,24542452,24546059,24546075,24548627,24548629,24549786,24552798,24556101,24559327,24560416,24561210,24561383,24589493,24694842,24698452,51003636,51004018,51009781,51009900,51012291,51012659,51013202,51014091,51016856,51017346,51019626,51020570,51021953,51025415,51027426,51027870,51029412,51030101,51033399,51033577,51035288,51036511,51037344,51037349,51037540,51037819,51037893,51040840,51041335,51041338,51041497,51043948,51045885,51045889,51045969,51047541,51048240,51048279,51049006,51051724,51053689,51056363,51057746,51057807,51057822,51057842,51057855,51059543,51061001,51061018,51062131,51063125,51063134,51063151,51063158,51064006,51065188,51065706,51069269,51070732,51071836,51073483,51074183,51074391,51074662,51074717,51075839,51077149,51078193,51078757,51079299,51079353,51080182,51080511,51080715,51081381,51082367,51083748,51084279,51084288,51084696,51088556,51088825,51090888'}]},\n",
       "   {'service': 'CSI',\n",
       "    'params': [{'key': 'c', 'value': 'ANDROID_MUSIC'},\n",
       "     {'key': 'cver', 'value': '5.16.51'},\n",
       "     {'key': 'yt_li', 'value': '0'},\n",
       "     {'key': 'GetPlayer_rid', 'value': '0xe104c4cb7147649b'}]},\n",
       "   {'service': 'ECATCHER',\n",
       "    'params': [{'key': 'client.version', 'value': '5.16'},\n",
       "     {'key': 'client.name', 'value': 'ANDROID_MUSIC'}]},\n",
       "   {'service': 'LISTNR',\n",
       "    'params': [{'key': 'e',\n",
       "      'value': '24385728,24451319,51079353,24140247,24560416,51078757,51019626,51080511,51053689,24410415,24458329,51012659,24542452,51013202,51061001,24458839,51075478,24518452,24537200,24548629,51033399,51027870,51037893,51025415,51069269,24428941,51021953,51036511,24220751,51045885,51065706,51074183,24546075,24181216,24290971,51012291,24286257,24524098,51037540,51070732,51074662,24428945,51003636,51009781,24589493,51083748,51045889,24135310,51071836,51074391,24274141,24694842,51020570,24377598,24515423,24382552,24542367,24548627,51009900,51074717,24506784,24181174,24195012,24556101,51004018,51088825,51061503,51045969,51049006,24288664,51077149,24036948,51080715,51048279,24428788,51014091,51061018,24195115,24034168,24559327,51029412,24367579,51073844,51084696,51057746,51016856,24458324,51037819,24458317'}]}],\n",
       "  'maxAgeSeconds': 0},\n",
       " 'playabilityStatus': {'status': 'ERROR',\n",
       "  'reason': 'This video is unavailable',\n",
       "  'contextParams': 'Q0FBU0FnZ0E='},\n",
       " 'trackingParams': 'CAAQu2kiEwio_9WCl6iDAxUCwUIFHcmbB1s='}"
      ]
     },
     "execution_count": 4,
     "metadata": {},
     "output_type": "execute_result"
    }
   ],
   "source": [
    "yt.vid_info"
   ]
  },
  {
   "cell_type": "code",
   "execution_count": 4,
   "metadata": {},
   "outputs": [
    {
     "data": {
      "text/plain": [
       "[<Stream: itag=\"139\" mime_type=\"audio/mp4\" abr=\"48kbps\" acodec=\"mp4a.40.5\" progressive=\"False\" type=\"audio\">, <Stream: itag=\"140\" mime_type=\"audio/mp4\" abr=\"128kbps\" acodec=\"mp4a.40.2\" progressive=\"False\" type=\"audio\">, <Stream: itag=\"249\" mime_type=\"audio/webm\" abr=\"50kbps\" acodec=\"opus\" progressive=\"False\" type=\"audio\">, <Stream: itag=\"250\" mime_type=\"audio/webm\" abr=\"70kbps\" acodec=\"opus\" progressive=\"False\" type=\"audio\">, <Stream: itag=\"251\" mime_type=\"audio/webm\" abr=\"160kbps\" acodec=\"opus\" progressive=\"False\" type=\"audio\">]"
      ]
     },
     "execution_count": 4,
     "metadata": {},
     "output_type": "execute_result"
    }
   ],
   "source": [
    "video"
   ]
  },
  {
   "cell_type": "code",
   "execution_count": 7,
   "metadata": {},
   "outputs": [
    {
     "data": {
      "text/plain": [
       "'/Users/chriseser/Desktop/MASTER/NUMERICAL/IveComeTooFar.mp4'"
      ]
     },
     "execution_count": 7,
     "metadata": {},
     "output_type": "execute_result"
    }
   ],
   "source": [
    "video[0].download(filename='IveComeTooFar.mp4')"
   ]
  },
  {
   "cell_type": "code",
   "execution_count": null,
   "metadata": {},
   "outputs": [],
   "source": [
    "from pytube import YouTube\n",
    "\n",
    "# Function to download YouTube audio as MP3\n",
    "def download_youtube_audio(url, output_filename):\n",
    "    try:\n",
    "        # Download YouTube audio\n",
    "        yt = YouTube(url)\n",
    "        audio = yt.streams.filter(only_audio=True).first()\n",
    "        audio.download(output_filename)\n",
    "        print(\"Download successful!\")\n",
    "    except Exception as e:\n",
    "        print(f\"Error: {str(e)}\")\n",
    "\n",
    "# Example usage\n",
    "youtube_url = 'https://www.youtube.com/watch?v=VIDEO_ID_HERE'\n",
    "output_file = 'output.mp3'\n",
    "\n",
    "download_youtube_audio(youtube_url, output_file)"
   ]
  }
 ],
 "metadata": {
  "kernelspec": {
   "display_name": "Python 3",
   "language": "python",
   "name": "python3"
  },
  "language_info": {
   "codemirror_mode": {
    "name": "ipython",
    "version": 3
   },
   "file_extension": ".py",
   "mimetype": "text/x-python",
   "name": "python",
   "nbconvert_exporter": "python",
   "pygments_lexer": "ipython3",
   "version": "3.11.6"
  }
 },
 "nbformat": 4,
 "nbformat_minor": 2
}
