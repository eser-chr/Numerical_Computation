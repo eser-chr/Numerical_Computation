{
 "cells": [
  {
   "cell_type": "markdown",
   "metadata": {},
   "source": [
    "We start by the definition of the composite trapezoidal \n",
    "$Tr[f] = \\frac{1}{h} \\sum\\limits_{k=0}^{N-1} \\frac{f(x_0+(k+1)h) - f(x_0+kh)}{2}$"
   ]
  },
  {
   "cell_type": "markdown",
   "metadata": {},
   "source": [
    "For the case of $sin(\\pi x)$ we get \n",
    "\n",
    "$I := Tr[sin(\\pi x)] = \\frac{1}{h} \\sum\\limits_{k=0}^{N-1} \\frac{sin(-\\pi+(k+1)\\pi h) - sin(-\\pi+k\\pi h)}{2}$"
   ]
  },
  {
   "cell_type": "markdown",
   "metadata": {},
   "source": [
    "Or using Euler's formula\n",
    "\n",
    "$I = \\frac{1}{4hi} \\sum\\limits_{k=0}^{N-1} e^{-i\\pi} e^{i\\pi(k+1)h} - \\frac{1}{4hi} \\sum\\limits_{k=0}^{N-1} e^{-i\\pi} e^{-i\\pi(k+1)h}+\\frac{1}{4hi} \\sum\\limits_{k=0}^{N-1} e^{i\\pi}e^{i\\pi k h} - \\frac{1}{4hi} \\sum\\limits_{k=0}^{N-1} e^{i\\pi} e^{-i\\pi k h}$\n"
   ]
  },
  {
   "cell_type": "markdown",
   "metadata": {},
   "source": [
    "$I = -\\frac{1}{4hi} \\sum\\limits_{k=0}^{N-1} e^{i\\pi(k+1)h} + \\frac{1}{4hi} \\sum\\limits_{k=0}^{N-1} e^{-i\\pi(k+1)h}-\\frac{1}{4hi} \\sum\\limits_{k=0}^{N-1} e^{i\\pi k h} + \\frac{1}{4hi} \\sum\\limits_{k=0}^{N-1} e^{-i\\pi k h}$"
   ]
  },
  {
   "cell_type": "markdown",
   "metadata": {},
   "source": [
    "$I = -\\frac{1}{4hi} e^{i\\pi h}\\sum\\limits_{k=0}^{N-1} e^{i\\pi k h} + \\frac{1}{4hi} e^{- i\\pi h}\\sum\\limits_{k=0}^{N-1} e^{-i\\pi k h}-\\frac{1}{4hi} \\sum\\limits_{k=0}^{N-1} e^{i\\pi k h} + \\frac{1}{4hi} \\sum\\limits_{k=0}^{N-1} e^{-i\\pi k h}$"
   ]
  },
  {
   "cell_type": "markdown",
   "metadata": {},
   "source": [
    "$I = -\\frac{1}{4hi} \\left( 1+e^{i\\pi h} \\right) \\sum\\limits_{k=0}^{N-1} e^{i\\pi k h} + \\frac{1}{4hi} \\left(1+ e^{- i\\pi h} \\right) \\sum\\limits_{k=0}^{N-1} e^{-i\\pi k h}$"
   ]
  },
  {
   "cell_type": "markdown",
   "metadata": {},
   "source": [
    "$I = -\\frac{1}{4hi} \\left( 1+e^{i\\pi h} \\right) \\frac{e^{i\\pi N h}-1}{e^{i \\pi h} - 1} + \\frac{1}{4hi} \\left(1+ e^{- i\\pi h} \\right) \\frac{e^{-i\\pi N h}-1}{e^{-i \\pi h} - 1}$"
   ]
  },
  {
   "cell_type": "markdown",
   "metadata": {},
   "source": [
    "$N = \\frac{2}{h} \\Rightarrow e^{\\pm i\\pi N h} = 1 $"
   ]
  },
  {
   "cell_type": "markdown",
   "metadata": {},
   "source": [
    "$I =0 $"
   ]
  }
 ],
 "metadata": {
  "language_info": {
   "name": "python"
  }
 },
 "nbformat": 4,
 "nbformat_minor": 2
}
