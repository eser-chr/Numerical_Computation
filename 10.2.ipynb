{
 "cells": [
  {
   "cell_type": "code",
   "execution_count": 2,
   "metadata": {},
   "outputs": [],
   "source": [
    "import numpy as np\n",
    "import matplotlib.pyplot as plt"
   ]
  },
  {
   "cell_type": "code",
   "execution_count": 3,
   "metadata": {},
   "outputs": [],
   "source": [
    "def power_iteration(A, x0, max_iterations, tol = np.finfo(float).eps):\n",
    "    \"\"\"\n",
    "    Perform power iteration to find the dominant eigenvector and eigenvalue of a square matrix.\n",
    "\n",
    "    Parameters:\n",
    "    - A (numpy.ndarray): The square matrix for which to find the dominant eigenvector and eigenvalue.\n",
    "    - x0 (numpy.ndarray): The initial guess for the eigenvector.\n",
    "    - max_iterations (int): The maximum number of iterations to perform.\n",
    "    - tol (float): Convergence tolerance. The iteration stops if the change in eigenvalue is below this threshold.\n",
    "\n",
    "    Returns:\n",
    "    - x (numpy.ndarray): The dominant eigenvector.\n",
    "    - lamda (float): The corresponding dominant eigenvalue.\n",
    "    \"\"\"\n",
    "    x = x0.copy()\n",
    "    x = x/np.linalg.norm(x)\n",
    "    lamda=0\n",
    "    for _ in range(max_iterations):\n",
    "        x = A@x\n",
    "        x = x/np.linalg.norm(x)\n",
    "        lamda_new = np.dot(x, A@x)\n",
    "        if np.abs(lamda_new - lamda) < tol:\n",
    "            break\n",
    "        lamda = lamda_new\n",
    "\n",
    "    return x, lamda"
   ]
  },
  {
   "cell_type": "code",
   "execution_count": 4,
   "metadata": {},
   "outputs": [],
   "source": [
    "A = np.array([[2,0],[0,-2]])\n",
    "x0 = np.array([1,0])\n",
    "x1 = np.array([0,1])\n",
    "x2 = np.array([1,1])"
   ]
  },
  {
   "cell_type": "code",
   "execution_count": 5,
   "metadata": {},
   "outputs": [
    {
     "data": {
      "text/plain": [
       "(array([1., 0.]), 2.0)"
      ]
     },
     "execution_count": 5,
     "metadata": {},
     "output_type": "execute_result"
    }
   ],
   "source": [
    "# It converges to the first eigenvalue\n",
    "power_iteration(A,x0,50)"
   ]
  },
  {
   "cell_type": "code",
   "execution_count": 6,
   "metadata": {},
   "outputs": [
    {
     "data": {
      "text/plain": [
       "(array([0., 1.]), -2.0)"
      ]
     },
     "execution_count": 6,
     "metadata": {},
     "output_type": "execute_result"
    }
   ],
   "source": [
    "# It converges to the second eigenvalue\n",
    "power_iteration(A,x1,50)"
   ]
  },
  {
   "cell_type": "code",
   "execution_count": 7,
   "metadata": {},
   "outputs": [
    {
     "data": {
      "text/plain": [
       "(array([ 0.70710678, -0.70710678]), 0)"
      ]
     },
     "execution_count": 7,
     "metadata": {},
     "output_type": "execute_result"
    }
   ],
   "source": [
    "# It does not converge\n",
    "power_iteration(A,x2,50)"
   ]
  },
  {
   "cell_type": "markdown",
   "metadata": {},
   "source": [
    "The problem is that $||\\lambda_1||_2 = ||\\lambda_2||_2$. Remark 7.3.\n",
    "Basically, in this case the algorithm converges to the normalised initial vector and the corresponding eigenvalue.\n",
    "Case x0 and x1 above are mere artifacts and lucky cases.\n"
   ]
  },
  {
   "cell_type": "markdown",
   "metadata": {},
   "source": []
  }
 ],
 "metadata": {
  "kernelspec": {
   "display_name": "Python 3",
   "language": "python",
   "name": "python3"
  },
  "language_info": {
   "codemirror_mode": {
    "name": "ipython",
    "version": 3
   },
   "file_extension": ".py",
   "mimetype": "text/x-python",
   "name": "python",
   "nbconvert_exporter": "python",
   "pygments_lexer": "ipython3",
   "version": "3.11.6"
  }
 },
 "nbformat": 4,
 "nbformat_minor": 2
}
