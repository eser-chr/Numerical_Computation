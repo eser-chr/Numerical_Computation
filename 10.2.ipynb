{
 "cells": [
  {
   "cell_type": "code",
   "execution_count": 8,
   "metadata": {},
   "outputs": [],
   "source": [
    "import numpy as np\n",
    "import matplotlib.pyplot as plt"
   ]
  },
  {
   "cell_type": "code",
   "execution_count": 9,
   "metadata": {},
   "outputs": [],
   "source": [
    "def power_iteration(A, x0, max_iterations, tol = np.finfo(float).eps):\n",
    "    \"\"\"\n",
    "    Perform power iteration to find the dominant eigenvector and eigenvalue of a square matrix.\n",
    "\n",
    "    Parameters:\n",
    "    - A (numpy.ndarray): The square matrix for which to find the dominant eigenvector and eigenvalue.\n",
    "    - x0 (numpy.ndarray): The initial guess for the eigenvector.\n",
    "    - max_iterations (int): The maximum number of iterations to perform.\n",
    "    - tol (float): Convergence tolerance. The iteration stops if the change in eigenvalue is below this threshold.\n",
    "\n",
    "    Returns:\n",
    "    - x (numpy.ndarray): The dominant eigenvector.\n",
    "    - lamda (float): The corresponding dominant eigenvalue.\n",
    "    \"\"\"\n",
    "    x = x0.copy()\n",
    "    x = x/np.linalg.norm(x)\n",
    "    lamda=0\n",
    "    for _ in range(max_iterations):\n",
    "        x = A@x\n",
    "        x = x/np.linalg.norm(x)\n",
    "        lamda_new = np.dot(x, A@x)\n",
    "        if np.abs(lamda_new - lamda) < tol:\n",
    "            break\n",
    "        lamda = lamda_new\n",
    "\n",
    "    return x, lamda"
   ]
  },
  {
   "cell_type": "code",
   "execution_count": 10,
   "metadata": {},
   "outputs": [],
   "source": [
    "A = np.array([[2,0],[0,-2]])\n",
    "x0 = np.array([1,0])\n",
    "x1 = np.array([0,1])\n",
    "x2 = np.array([1,1])"
   ]
  },
  {
   "cell_type": "code",
   "execution_count": 5,
   "metadata": {},
   "outputs": [
    {
     "data": {
      "text/plain": [
       "(array([1., 0.]), 2.0)"
      ]
     },
     "execution_count": 5,
     "metadata": {},
     "output_type": "execute_result"
    }
   ],
   "source": [
    "# It converges to the first eigenvalue\n",
    "power_iteration(A,x0,50)"
   ]
  },
  {
   "cell_type": "code",
   "execution_count": 6,
   "metadata": {},
   "outputs": [
    {
     "data": {
      "text/plain": [
       "(array([0., 1.]), -2.0)"
      ]
     },
     "execution_count": 6,
     "metadata": {},
     "output_type": "execute_result"
    }
   ],
   "source": [
    "# It converges to the second eigenvalue\n",
    "power_iteration(A,x1,50)"
   ]
  },
  {
   "cell_type": "code",
   "execution_count": 7,
   "metadata": {},
   "outputs": [
    {
     "data": {
      "text/plain": [
       "(array([ 0.70710678, -0.70710678]), 0)"
      ]
     },
     "execution_count": 7,
     "metadata": {},
     "output_type": "execute_result"
    }
   ],
   "source": [
    "# It does not converge\n",
    "power_iteration(A,x2,50)"
   ]
  },
  {
   "cell_type": "markdown",
   "metadata": {},
   "source": [
    "The problem is that $||\\lambda_1||_2 = ||\\lambda_2||_2$. Remark 7.3.\n",
    "Basically, in this case the algorithm converges to the normalised initial vector and the corresponding eigenvalue.\n",
    "Case x0 and x1 above are mere artifacts and lucky cases.\n"
   ]
  },
  {
   "cell_type": "markdown",
   "metadata": {},
   "source": []
  },
  {
   "cell_type": "code",
   "execution_count": 57,
   "metadata": {},
   "outputs": [],
   "source": [
    "A = np.array([[2,0],[0,1]])\n",
    "x0 = np.array([1,0])\n",
    "x1 = np.array([0.1,0.9999])"
   ]
  },
  {
   "cell_type": "code",
   "execution_count": 31,
   "metadata": {},
   "outputs": [
    {
     "data": {
      "text/plain": [
       "(array([1.00000000e+00, 9.31229442e-09]), 2.0)"
      ]
     },
     "execution_count": 31,
     "metadata": {},
     "output_type": "execute_result"
    }
   ],
   "source": [
    "power_iteration(A,x1,50)"
   ]
  },
  {
   "cell_type": "code",
   "execution_count": 45,
   "metadata": {},
   "outputs": [],
   "source": [
    "Q, R = np.linalg.qr(A)"
   ]
  },
  {
   "cell_type": "code",
   "execution_count": 46,
   "metadata": {},
   "outputs": [
    {
     "data": {
      "text/plain": [
       "array([[-0.9701425 ,  0.10585122],\n",
       "       [-0.        , -0.89973541],\n",
       "       [-0.24253563, -0.4234049 ]])"
      ]
     },
     "execution_count": 46,
     "metadata": {},
     "output_type": "execute_result"
    }
   ],
   "source": [
    "Q"
   ]
  },
  {
   "cell_type": "code",
   "execution_count": 47,
   "metadata": {},
   "outputs": [
    {
     "data": {
      "text/plain": [
       "array([[-2.06155281, -0.12126781],\n",
       "       [ 0.        , -1.11143786]])"
      ]
     },
     "execution_count": 47,
     "metadata": {},
     "output_type": "execute_result"
    }
   ],
   "source": [
    "R"
   ]
  },
  {
   "cell_type": "code",
   "execution_count": 40,
   "metadata": {},
   "outputs": [],
   "source": [
    "Q, R = np.linalg.qr(A, mode='complete')"
   ]
  },
  {
   "cell_type": "code",
   "execution_count": 41,
   "metadata": {},
   "outputs": [
    {
     "data": {
      "text/plain": [
       "array([[-0.9701425 ,  0.10585122, -0.21821789],\n",
       "       [-0.        , -0.89973541, -0.43643578],\n",
       "       [-0.24253563, -0.4234049 ,  0.87287156]])"
      ]
     },
     "execution_count": 41,
     "metadata": {},
     "output_type": "execute_result"
    }
   ],
   "source": [
    "\n",
    "Q"
   ]
  },
  {
   "cell_type": "code",
   "execution_count": 42,
   "metadata": {},
   "outputs": [
    {
     "data": {
      "text/plain": [
       "array([[ 1.00000000e+00, -9.75133365e-19,  2.97058423e-17],\n",
       "       [-9.75133365e-19,  1.00000000e+00,  3.90053346e-18],\n",
       "       [ 2.97058423e-17,  3.90053346e-18,  1.00000000e+00]])"
      ]
     },
     "execution_count": 42,
     "metadata": {},
     "output_type": "execute_result"
    }
   ],
   "source": [
    "np.matmul(Q, Q.T)"
   ]
  },
  {
   "cell_type": "code",
   "execution_count": 43,
   "metadata": {},
   "outputs": [
    {
     "data": {
      "text/plain": [
       "array([[ 1.00000000e+00, -1.90447000e-17,  3.66062534e-17],\n",
       "       [-1.90447000e-17,  1.00000000e+00, -6.73594335e-20],\n",
       "       [ 3.66062534e-17, -6.73594335e-20,  1.00000000e+00]])"
      ]
     },
     "execution_count": 43,
     "metadata": {},
     "output_type": "execute_result"
    }
   ],
   "source": [
    "np.matmul(Q.T, Q)"
   ]
  },
  {
   "cell_type": "code",
   "execution_count": 44,
   "metadata": {},
   "outputs": [
    {
     "data": {
      "text/plain": [
       "array([[-2.06155281, -0.12126781],\n",
       "       [ 0.        , -1.11143786],\n",
       "       [ 0.        ,  0.        ]])"
      ]
     },
     "execution_count": 44,
     "metadata": {},
     "output_type": "execute_result"
    }
   ],
   "source": [
    "R"
   ]
  },
  {
   "cell_type": "code",
   "execution_count": 65,
   "metadata": {},
   "outputs": [],
   "source": [
    "def QR (A, M, iterations):\n",
    "    X = M.copy()\n",
    "    for _ in range(iterations):\n",
    "        Q,R = np.linalg.qr(X)\n",
    "        print(Q)\n",
    "        X = A@Q\n",
    "        print(X)\n",
    "    return X\n"
   ]
  },
  {
   "cell_type": "code",
   "execution_count": 60,
   "metadata": {},
   "outputs": [],
   "source": [
    "A = np.array([[1,5],[3,6]])"
   ]
  },
  {
   "cell_type": "code",
   "execution_count": 62,
   "metadata": {},
   "outputs": [
    {
     "data": {
      "text/plain": [
       "array([-1.10977223,  8.10977223])"
      ]
     },
     "execution_count": 62,
     "metadata": {},
     "output_type": "execute_result"
    }
   ],
   "source": [
    "np.linalg.eigvals(A)"
   ]
  },
  {
   "cell_type": "code",
   "execution_count": 68,
   "metadata": {},
   "outputs": [
    {
     "data": {
      "text/plain": [
       "EigResult(eigenvalues=array([-1.10977223,  8.10977223]), eigenvectors=array([[-0.92133794, -0.57524923],\n",
       "       [ 0.38876264, -0.81797819]]))"
      ]
     },
     "execution_count": 68,
     "metadata": {},
     "output_type": "execute_result"
    }
   ],
   "source": [
    "np.linalg.eig(A)"
   ]
  },
  {
   "cell_type": "code",
   "execution_count": 81,
   "metadata": {},
   "outputs": [
    {
     "name": "stdout",
     "output_type": "stream",
     "text": [
      "[[ 1.  0.]\n",
      " [-0.  1.]]\n",
      "[[1. 5.]\n",
      " [3. 6.]]\n",
      "[[-0.31622777 -0.9486833 ]\n",
      " [-0.9486833   0.31622777]]\n",
      "[[-5.05964426  0.63245553]\n",
      " [-6.64078309 -0.9486833 ]]\n",
      "[[-0.60604322 -0.79543172]\n",
      " [-0.79543172  0.60604322]]\n",
      "[[-4.58320182  2.23478436]\n",
      " [-6.59071997  1.24996413]]\n",
      "[[-0.57092623 -0.82100136]\n",
      " [-0.82100136  0.57092623]]\n",
      "[[-4.67593304  2.03362981]\n",
      " [-6.63878687  0.96255332]]\n",
      "[[-0.5758388  -0.81756326]\n",
      " [-0.81756326  0.5758388 ]]\n",
      "[[-4.66365508  2.06163073]\n",
      " [-6.63289594  1.00234301]]\n",
      "[[-0.57516851 -0.81803495]\n",
      " [-0.81803495  0.57516851]]\n",
      "[[-4.66534328  2.05780759]\n",
      " [-6.63371525  0.9969062 ]]\n",
      "[[-0.57526027 -0.81797043]\n",
      " [-0.81797043  0.57526027]]\n",
      "[[-4.66511241  2.05833093]\n",
      " [-6.63360338  0.99765035]]\n",
      "[[-0.57524772 -0.81797926]\n",
      " [-0.81797926  0.57524772]]\n",
      "[[-4.665144    2.05825932]\n",
      " [-6.63361869  0.99754852]]\n",
      "[[-0.57524943 -0.81797805]\n",
      " [-0.81797805  0.57524943]]\n",
      "[[-4.66513968  2.05826912]\n",
      " [-6.6336166   0.99756245]]\n",
      "[[-0.5752492  -0.81797821]\n",
      " [-0.81797821  0.5752492 ]]\n",
      "[[-4.66514027  2.05826778]\n",
      " [-6.63361688  0.99756054]]\n"
     ]
    }
   ],
   "source": [
    "eigen = QR(A, np.array([[1,0],[0,1]]), 10)"
   ]
  },
  {
   "cell_type": "code",
   "execution_count": 83,
   "metadata": {},
   "outputs": [
    {
     "data": {
      "text/plain": [
       "array([ 7.0460705 , 12.16016659])"
      ]
     },
     "execution_count": 83,
     "metadata": {},
     "output_type": "execute_result"
    }
   ],
   "source": [
    "A@eigen[:,1]"
   ]
  },
  {
   "cell_type": "code",
   "execution_count": null,
   "metadata": {},
   "outputs": [],
   "source": []
  },
  {
   "cell_type": "code",
   "execution_count": 76,
   "metadata": {},
   "outputs": [
    {
     "data": {
      "text/plain": [
       "array([[1, 5],\n",
       "       [3, 6]])"
      ]
     },
     "execution_count": 76,
     "metadata": {},
     "output_type": "execute_result"
    }
   ],
   "source": [
    "A"
   ]
  },
  {
   "cell_type": "code",
   "execution_count": 79,
   "metadata": {},
   "outputs": [
    {
     "data": {
      "text/plain": [
       "array([[16, 22],\n",
       "       [21, 30]])"
      ]
     },
     "execution_count": 79,
     "metadata": {},
     "output_type": "execute_result"
    }
   ],
   "source": [
    "np.array(A)@np.array([[1,2],[3,4]])"
   ]
  },
  {
   "cell_type": "code",
   "execution_count": 73,
   "metadata": {},
   "outputs": [
    {
     "data": {
      "text/plain": [
       "(array([0.57524923, 0.8179782 ]), 8.109772229317146)"
      ]
     },
     "execution_count": 73,
     "metadata": {},
     "output_type": "execute_result"
    }
   ],
   "source": [
    "power_iteration(A, np.array([1,2]), 10)"
   ]
  },
  {
   "cell_type": "code",
   "execution_count": null,
   "metadata": {},
   "outputs": [],
   "source": []
  }
 ],
 "metadata": {
  "kernelspec": {
   "display_name": "Python 3",
   "language": "python",
   "name": "python3"
  },
  "language_info": {
   "codemirror_mode": {
    "name": "ipython",
    "version": 3
   },
   "file_extension": ".py",
   "mimetype": "text/x-python",
   "name": "python",
   "nbconvert_exporter": "python",
   "pygments_lexer": "ipython3",
   "version": "3.11.6"
  }
 },
 "nbformat": 4,
 "nbformat_minor": 2
}
