{
 "cells": [
  {
   "cell_type": "code",
   "execution_count": 3,
   "metadata": {},
   "outputs": [],
   "source": [
    "import numpy as np\n",
    "import matplotlib.pyplot as plt"
   ]
  },
  {
   "cell_type": "markdown",
   "metadata": {},
   "source": [
    "$A_l - \\mu = Q_{l+1}R_{l+1} \\Rightarrow Q_{l+1}^H \\left(A_l - \\mu \\right) Q_{l+1} = R_{l+1}Q_{l+1} = A_{l+1}-\\mu$"
   ]
  },
  {
   "cell_type": "code",
   "execution_count": 16,
   "metadata": {},
   "outputs": [],
   "source": [
    "def QR(M, max_iter):\n",
    "    \"\"\"\n",
    "    Apply the QR algorithm for finding eigenvalues of a matrix.\n",
    "\n",
    "    Parameters:\n",
    "    -----------\n",
    "    M : array_like\n",
    "        Input matrix for which eigenvalues are to be computed.\n",
    "    max_iter : int\n",
    "        Maximum number of iterations for the QR algorithm.\n",
    "\n",
    "    Returns:\n",
    "    --------\n",
    "    A : ndarray\n",
    "        Matrix representing the result after applying the QR algorithm.\n",
    "\n",
    "    Notes:\n",
    "    ------\n",
    "    The QR algorithm iteratively decomposes the matrix `A` into `Q` and `R` at each\n",
    "    iteration and updates `A` as `R @ Q`. The process is repeated for the specified\n",
    "    number of iterations.\n",
    "\n",
    "    Example:\n",
    "    --------\n",
    "    >>> M = np.array([[4, 2, 1],\n",
    "    ...               [2, 3, 1],\n",
    "    ...               [1, 1, 2]], dtype=float)\n",
    "    >>> result = QR(M, max_iter=50)\n",
    "    \"\"\"\n",
    "    \n",
    "    A = M.copy()    \n",
    "    for _ in range(max_iter):\n",
    "        Q, R = np.linalg.qr(A)\n",
    "        A = R @ Q\n",
    "    return A\n",
    "\n",
    "\n",
    "def QRwShift(M, max_iter, shift):\n",
    "    \"\"\"\n",
    "    Apply the QR algorithm with a shift for finding eigenvalues of a matrix.\n",
    "\n",
    "    Parameters:\n",
    "    -----------\n",
    "    M : array_like\n",
    "        Input matrix for which eigenvalues are to be computed.\n",
    "    max_iter : int\n",
    "        Maximum number of iterations for the QR algorithm.\n",
    "    shift : float or array_like\n",
    "        Shift value or array to be subtracted from the original matrix during each iteration.\n",
    "\n",
    "    Returns:\n",
    "    --------\n",
    "    A : ndarray\n",
    "        Matrix representing the result after applying the QR algorithm with a shift.\n",
    "\n",
    "    Notes:\n",
    "    ------\n",
    "    The QR algorithm with a shift iteratively decomposes the matrix `A - shift` into `Q` and `R` \n",
    "    at each iteration and updates `A` as `R @ Q + shift`. The process is repeated for the specified\n",
    "    number of iterations.\n",
    "\n",
    "    Example:\n",
    "    --------\n",
    "    >>> M = np.array([[4, 2, 1],\n",
    "    ...               [2, 3, 1],\n",
    "    ...               [1, 1, 2]], dtype=float)\n",
    "    >>> result = QRwShift(M, max_iter=50, shift=2.0)\n",
    "    \"\"\"\n",
    "\n",
    "    A = M.copy()\n",
    "\n",
    "    for _ in range(max_iter):\n",
    "        Q, R = np.linalg.qr(A - shift)\n",
    "        A = R @ Q + shift\n",
    "    return A\n",
    "\n",
    "\n",
    "\n"
   ]
  },
  {
   "cell_type": "code",
   "execution_count": 4,
   "metadata": {},
   "outputs": [],
   "source": [
    "A = np.array([[3,-1,0,1],\n",
    "              [-1,3,1,1],\n",
    "              [0,1,3,0],\n",
    "              [1,1,0,3]])"
   ]
  },
  {
   "cell_type": "code",
   "execution_count": 98,
   "metadata": {},
   "outputs": [
    {
     "data": {
      "text/plain": [
       "array([0.82991351, 2.68889218, 4.        , 4.4811943 ])"
      ]
     },
     "execution_count": 98,
     "metadata": {},
     "output_type": "execute_result"
    }
   ],
   "source": [
    "TRUE_EIGENVALS = np.linalg.eigvals(A)\n",
    "TRUE_EIGENVALS"
   ]
  },
  {
   "cell_type": "code",
   "execution_count": 99,
   "metadata": {},
   "outputs": [
    {
     "name": "stdout",
     "output_type": "stream",
     "text": [
      "[0.85893417 4.44804857 4.00408381 2.68893345]\n"
     ]
    }
   ],
   "source": [
    "res = QRwShift(A,5, np.diag(np.diag(A))).diagonal()\n",
    "print(res)\n",
    "res = np.sort(res)\n"
   ]
  },
  {
   "cell_type": "code",
   "execution_count": 100,
   "metadata": {},
   "outputs": [
    {
     "data": {
      "text/plain": [
       "0.029020655905031667"
      ]
     },
     "execution_count": 100,
     "metadata": {},
     "output_type": "execute_result"
    }
   ],
   "source": [
    "max(res-TRUE_EIGENVALS)"
   ]
  },
  {
   "cell_type": "code",
   "execution_count": 101,
   "metadata": {},
   "outputs": [
    {
     "data": {
      "text/plain": [
       "0.04424384011361339"
      ]
     },
     "execution_count": 101,
     "metadata": {},
     "output_type": "execute_result"
    }
   ],
   "source": [
    "np.linalg.norm(res-TRUE_EIGENVALS)"
   ]
  },
  {
   "cell_type": "code",
   "execution_count": 102,
   "metadata": {},
   "outputs": [
    {
     "data": {
      "text/plain": [
       "array([0.82991351, 2.68889218, 4.        , 4.4811943 ])"
      ]
     },
     "execution_count": 102,
     "metadata": {},
     "output_type": "execute_result"
    }
   ],
   "source": [
    "B = A-np.diag(np.diag(A))\n",
    "np.linalg.eigvals(B)+np.diag(A)"
   ]
  },
  {
   "cell_type": "code",
   "execution_count": null,
   "metadata": {},
   "outputs": [],
   "source": []
  },
  {
   "cell_type": "code",
   "execution_count": 1,
   "metadata": {},
   "outputs": [],
   "source": [
    "#Reyleigh shift is if you take the A[n,n]!!"
   ]
  },
  {
   "cell_type": "code",
   "execution_count": 19,
   "metadata": {},
   "outputs": [],
   "source": [
    "def QRwShifting(M,max_iter, shift):\n",
    "\n",
    "\n",
    "    A = M.copy()\n",
    "    # Q,R = np.linalg.qr(A)\n",
    "    for _ in range(max_iter):\n",
    "        print(shift)\n",
    "        Q, R = np.linalg.qr(A - shift)\n",
    "        A = R @ Q + shift\n",
    "        shift = R.T@(A@R)\n",
    "        shift = shift/(np.dot(R.T, R))\n",
    "    return A"
   ]
  },
  {
   "cell_type": "code",
   "execution_count": 20,
   "metadata": {},
   "outputs": [
    {
     "name": "stdout",
     "output_type": "stream",
     "text": [
      "[[3 0 0 0]\n",
      " [0 3 0 0]\n",
      " [0 0 3 0]\n",
      " [0 0 0 3]]\n",
      "[[ 2.00000000e+00 -1.00000000e+00  2.00000000e+00  2.02996189e-16]\n",
      " [-1.00000000e+00  2.33333333e+00  4.54340209e+16 -1.00000000e+00]\n",
      " [ 2.00000000e+00  4.54340209e+16  3.00000000e+00  2.00000000e+00]\n",
      " [ 6.24714256e-16 -1.00000000e+00  2.00000000e+00  2.00000000e+00]]\n",
      "[[ 3.77097670e+16  8.00419717e+16  2.57895978e+16  4.84000910e+16]\n",
      " [ 8.00419717e+16  5.54373703e+00  1.55903122e+33  1.84617525e+15]\n",
      " [ 2.57895978e+16  1.55903122e+33 -9.00639964e+15  1.24377073e+17]\n",
      " [ 4.84000910e+16  1.84617525e+15  1.24377073e+17  1.02569792e+16]]\n",
      "[[-7.01553425e+32 -5.31099082e+33 -4.57650641e+32 -4.51323727e+33]\n",
      " [-5.31099082e+33  2.94947855e+17  5.51426823e+49  7.99478420e+31]\n",
      " [-4.57650641e+32  5.51426823e+49  3.07409550e+32 -1.49136084e+35]\n",
      " [-4.51323727e+33  7.99478420e+31 -1.49136084e+35  1.35736158e+32]]\n",
      "[[-7.54654891e+48 -3.59098501e+50 -8.46763606e+48 -3.62710208e+50]\n",
      " [-3.59098501e+50  6.54657486e+33  1.45755912e+66  1.78582553e+46]\n",
      " [-8.46763606e+48  1.45755912e+66  5.62455161e+48  1.78731214e+53]\n",
      " [-3.62710208e+50  1.78582553e+46  1.78731214e+53  3.56812980e+46]]\n",
      "[[-1.71223786e+64 -1.34724948e+68 -1.57690066e+64 -1.34721423e+68]\n",
      " [-1.34724948e+68 -1.14797014e+50 -8.53326899e+82 -2.96856786e+58]\n",
      " [-1.57690066e+64 -8.53326899e+82  1.15760720e+64 -2.44495449e+73]\n",
      " [-1.34721423e+68 -2.96856786e+58 -2.44495449e+73 -5.93711130e+58]]\n",
      "[[ 5.01250822e+78  1.46427048e+87  4.97289814e+78  1.46427048e+87]\n",
      " [ 1.46427048e+87  6.14398339e+66  5.47174932e+99 -2.20105782e+66]\n",
      " [ 4.97289814e+78  5.47174932e+99 -3.53023451e+78  1.37518619e+98]\n",
      " [ 1.46427048e+87 -2.20114130e+66  1.37518619e+98 -1.05459837e+67]]\n",
      "[[-9.52528068e+090 -3.30332782e+108 -9.06932472e+090 -3.30332782e+108]\n",
      " [-3.30332782e+108  4.99990611e+082 -6.05213923e+116  5.85091593e+083]\n",
      " [-9.06932460e+090 -6.05213923e+116  6.56182556e+090  3.75512930e+116]\n",
      " [-3.30332782e+108  5.85091593e+083  3.75512930e+116  1.12018413e+084]]\n",
      "[[ inf  inf  inf  inf]\n",
      " [ inf  inf -inf  inf]\n",
      " [ inf -inf  inf -inf]\n",
      " [ inf  inf -inf  inf]]\n",
      "[[nan nan nan nan]\n",
      " [nan nan nan nan]\n",
      " [nan nan nan nan]\n",
      " [nan nan nan nan]]\n",
      "[[nan nan nan nan]\n",
      " [nan nan nan nan]\n",
      " [nan nan nan nan]\n",
      " [nan nan nan nan]]\n",
      "[[nan nan nan nan]\n",
      " [nan nan nan nan]\n",
      " [nan nan nan nan]\n",
      " [nan nan nan nan]]\n",
      "[[nan nan nan nan]\n",
      " [nan nan nan nan]\n",
      " [nan nan nan nan]\n",
      " [nan nan nan nan]]\n",
      "[[nan nan nan nan]\n",
      " [nan nan nan nan]\n",
      " [nan nan nan nan]\n",
      " [nan nan nan nan]]\n",
      "[[nan nan nan nan]\n",
      " [nan nan nan nan]\n",
      " [nan nan nan nan]\n",
      " [nan nan nan nan]]\n"
     ]
    },
    {
     "name": "stderr",
     "output_type": "stream",
     "text": [
      "/var/folders/89/w_60r_4x0cj3g1zv6zj2235h0000gn/T/ipykernel_31060/2200948249.py:8: RuntimeWarning: overflow encountered in matmul\n",
      "  shift = R.T@(A@R)\n"
     ]
    },
    {
     "data": {
      "text/plain": [
       "array([nan, nan, nan, nan])"
      ]
     },
     "execution_count": 20,
     "metadata": {},
     "output_type": "execute_result"
    }
   ],
   "source": [
    "QRwShifting(A, 15, shift = np.diag(np.diag(A))).diagonal()"
   ]
  },
  {
   "cell_type": "code",
   "execution_count": 13,
   "metadata": {},
   "outputs": [
    {
     "data": {
      "text/plain": [
       "array([3.31662479, 3.46410162, 3.16227766, 3.31662479])"
      ]
     },
     "execution_count": 13,
     "metadata": {},
     "output_type": "execute_result"
    }
   ],
   "source": [
    "np.linalg.norm(A, axis = 1)"
   ]
  },
  {
   "cell_type": "code",
   "execution_count": null,
   "metadata": {},
   "outputs": [],
   "source": []
  }
 ],
 "metadata": {
  "kernelspec": {
   "display_name": "Python 3",
   "language": "python",
   "name": "python3"
  },
  "language_info": {
   "codemirror_mode": {
    "name": "ipython",
    "version": 3
   },
   "file_extension": ".py",
   "mimetype": "text/x-python",
   "name": "python",
   "nbconvert_exporter": "python",
   "pygments_lexer": "ipython3",
   "version": "3.11.6"
  }
 },
 "nbformat": 4,
 "nbformat_minor": 2
}
