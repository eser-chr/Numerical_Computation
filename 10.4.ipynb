{
 "cells": [
  {
   "cell_type": "code",
   "execution_count": 27,
   "metadata": {},
   "outputs": [],
   "source": [
    "import numpy as np\n",
    "import matplotlib.pyplot as plt"
   ]
  },
  {
   "cell_type": "markdown",
   "metadata": {},
   "source": [
    "$A_l - \\mu = Q_{l+1}R_{l+1} \\Rightarrow Q_{l+1}^H \\left(A_l - \\mu \\right) Q_{l+1} = R_{l+1}Q_{l+1} = A_{l+1}-\\mu$"
   ]
  },
  {
   "cell_type": "code",
   "execution_count": 96,
   "metadata": {},
   "outputs": [],
   "source": [
    "def QR(M, max_iter):\n",
    "    \"\"\"\n",
    "    Apply the QR algorithm for finding eigenvalues of a matrix.\n",
    "\n",
    "    Parameters:\n",
    "    -----------\n",
    "    M : array_like\n",
    "        Input matrix for which eigenvalues are to be computed.\n",
    "    max_iter : int\n",
    "        Maximum number of iterations for the QR algorithm.\n",
    "\n",
    "    Returns:\n",
    "    --------\n",
    "    A : ndarray\n",
    "        Matrix representing the result after applying the QR algorithm.\n",
    "\n",
    "    Notes:\n",
    "    ------\n",
    "    The QR algorithm iteratively decomposes the matrix `A` into `Q` and `R` at each\n",
    "    iteration and updates `A` as `R @ Q`. The process is repeated for the specified\n",
    "    number of iterations.\n",
    "\n",
    "    Example:\n",
    "    --------\n",
    "    >>> M = np.array([[4, 2, 1],\n",
    "    ...               [2, 3, 1],\n",
    "    ...               [1, 1, 2]], dtype=float)\n",
    "    >>> result = QR(M, max_iter=50)\n",
    "    \"\"\"\n",
    "    \n",
    "    A = M.copy()    \n",
    "    for _ in range(max_iter):\n",
    "        Q, R = np.linalg.qr(A)\n",
    "        A = R @ Q\n",
    "    return A\n",
    "\n",
    "\n",
    "def QRwShift(M, max_iter, shift):\n",
    "    \"\"\"\n",
    "    Apply the QR algorithm with a shift for finding eigenvalues of a matrix.\n",
    "\n",
    "    Parameters:\n",
    "    -----------\n",
    "    M : array_like\n",
    "        Input matrix for which eigenvalues are to be computed.\n",
    "    max_iter : int\n",
    "        Maximum number of iterations for the QR algorithm.\n",
    "    shift : float or array_like\n",
    "        Shift value or array to be subtracted from the original matrix during each iteration.\n",
    "\n",
    "    Returns:\n",
    "    --------\n",
    "    A : ndarray\n",
    "        Matrix representing the result after applying the QR algorithm with a shift.\n",
    "\n",
    "    Notes:\n",
    "    ------\n",
    "    The QR algorithm with a shift iteratively decomposes the matrix `A - shift` into `Q` and `R` \n",
    "    at each iteration and updates `A` as `R @ Q + shift`. The process is repeated for the specified\n",
    "    number of iterations.\n",
    "\n",
    "    Example:\n",
    "    --------\n",
    "    >>> M = np.array([[4, 2, 1],\n",
    "    ...               [2, 3, 1],\n",
    "    ...               [1, 1, 2]], dtype=float)\n",
    "    >>> result = QRwShift(M, max_iter=50, shift=2.0)\n",
    "    \"\"\"\n",
    "\n",
    "    A = M.copy()\n",
    "\n",
    "    for _ in range(max_iter):\n",
    "        Q, R = np.linalg.qr(A - shift)\n",
    "        A = R @ Q + shift\n",
    "    return A\n",
    "\n"
   ]
  },
  {
   "cell_type": "code",
   "execution_count": 97,
   "metadata": {},
   "outputs": [],
   "source": [
    "A = np.array([[3,-1,0,1],\n",
    "              [-1,3,1,1],\n",
    "              [0,1,3,0],\n",
    "              [1,1,0,3]])"
   ]
  },
  {
   "cell_type": "code",
   "execution_count": 98,
   "metadata": {},
   "outputs": [
    {
     "data": {
      "text/plain": [
       "array([0.82991351, 2.68889218, 4.        , 4.4811943 ])"
      ]
     },
     "execution_count": 98,
     "metadata": {},
     "output_type": "execute_result"
    }
   ],
   "source": [
    "TRUE_EIGENVALS = np.linalg.eigvals(A)\n",
    "TRUE_EIGENVALS"
   ]
  },
  {
   "cell_type": "code",
   "execution_count": 99,
   "metadata": {},
   "outputs": [
    {
     "name": "stdout",
     "output_type": "stream",
     "text": [
      "[0.85893417 4.44804857 4.00408381 2.68893345]\n"
     ]
    }
   ],
   "source": [
    "res = QRwShift(A,5, np.diag(np.diag(A))).diagonal()\n",
    "print(res)\n",
    "res = np.sort(res)\n"
   ]
  },
  {
   "cell_type": "code",
   "execution_count": 100,
   "metadata": {},
   "outputs": [
    {
     "data": {
      "text/plain": [
       "0.029020655905031667"
      ]
     },
     "execution_count": 100,
     "metadata": {},
     "output_type": "execute_result"
    }
   ],
   "source": [
    "max(res-TRUE_EIGENVALS)"
   ]
  },
  {
   "cell_type": "code",
   "execution_count": 101,
   "metadata": {},
   "outputs": [
    {
     "data": {
      "text/plain": [
       "0.04424384011361339"
      ]
     },
     "execution_count": 101,
     "metadata": {},
     "output_type": "execute_result"
    }
   ],
   "source": [
    "np.linalg.norm(res-TRUE_EIGENVALS)"
   ]
  },
  {
   "cell_type": "code",
   "execution_count": 102,
   "metadata": {},
   "outputs": [
    {
     "data": {
      "text/plain": [
       "array([0.82991351, 2.68889218, 4.        , 4.4811943 ])"
      ]
     },
     "execution_count": 102,
     "metadata": {},
     "output_type": "execute_result"
    }
   ],
   "source": [
    "B = A-np.diag(np.diag(A))\n",
    "np.linalg.eigvals(B)+np.diag(A)"
   ]
  }
 ],
 "metadata": {
  "kernelspec": {
   "display_name": "Python 3",
   "language": "python",
   "name": "python3"
  },
  "language_info": {
   "codemirror_mode": {
    "name": "ipython",
    "version": 3
   },
   "file_extension": ".py",
   "mimetype": "text/x-python",
   "name": "python",
   "nbconvert_exporter": "python",
   "pygments_lexer": "ipython3",
   "version": "3.11.6"
  }
 },
 "nbformat": 4,
 "nbformat_minor": 2
}
